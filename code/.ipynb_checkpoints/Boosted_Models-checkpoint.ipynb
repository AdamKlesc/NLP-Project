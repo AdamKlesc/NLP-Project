{
 "cells": [
  {
   "cell_type": "code",
   "execution_count": 1,
   "id": "ceccaa0c",
   "metadata": {},
   "outputs": [],
   "source": [
    "import pandas as pd\n",
    "import numpy as np\n",
    "import matplotlib.pyplot as plt\n",
    "import seaborn as sns\n",
    "\n",
    "\n",
    "from sklearn.ensemble import GradientBoostingClassifier, AdaBoostClassifier, VotingClassifier, RandomForestClassifier, ExtraTreesClassifier\n",
    "from sklearn.model_selection import train_test_split, GridSearchCV, cross_val_score\n",
    "from sklearn.tree import DecisionTreeClassifier\n",
    "\n",
    "from sklearn.neighbors import KNeighborsClassifier\n",
    "from sklearn.preprocessing import StandardScaler\n",
    "from sklearn.pipeline import Pipeline\n",
    "\n",
    "from sklearn.linear_model import LogisticRegression\n",
    "from sklearn.feature_extraction.text import CountVectorizer\n",
    "from sklearn.metrics import plot_confusion_matrix"
   ]
  },
  {
   "cell_type": "markdown",
   "id": "3bb89902",
   "metadata": {},
   "source": [
    "### USING BOOSTED kNN AND LogReg ON REGULAR TOKENIZED DATASETS"
   ]
  },
  {
   "cell_type": "code",
   "execution_count": 2,
   "id": "b3df012c",
   "metadata": {},
   "outputs": [],
   "source": [
    "token_self = pd.read_csv('../data/tokenself.csv')\n",
    "token_title = pd.read_csv('../data/tokentitle.csv')\n",
    "token_total = pd.read_csv('../data/tokentotal.csv')\n",
    "\n",
    "token_title.drop('Unnamed: 0', axis = 1, inplace= True)\n",
    "token_self.drop('Unnamed: 0', axis = 1, inplace = True)\n",
    "token_total.drop('Unnamed: 0', axis = 1, inplace = True)"
   ]
  },
  {
   "cell_type": "code",
   "execution_count": 2,
   "id": "95e0391e",
   "metadata": {},
   "outputs": [],
   "source": [
    "AdaBoostClassifier(base_estimator=DecisionTreeClassifier())\n",
    "GradientBoostingClassifier()\n",
    "\n",
    "knn_pipe = Pipeline([\n",
    "    ('ss', StandardScaler()),\n",
    "    ('knn', KNeighborsClassifier())\n",
    "])\n",
    "\n",
    "logreg_pipe = Pipeline([\n",
    "    ('ss', StandardScaler()),\n",
    "    ('logreg', LogisticRegression(max_iter=1000))\n",
    "])\n",
    "\n",
    "vote = VotingClassifier([\n",
    "    ('ada', AdaBoostClassifier(base_estimator=DecisionTreeClassifier())),\n",
    "    ('gb', GradientBoostingClassifier()),\n",
    "    ('tree', DecisionTreeClassifier()),\n",
    "    ('knn_pipe', knn_pipe)\n",
    "])\n",
    "\n",
    "vote2 = VotingClassifier([\n",
    "    ('ada', AdaBoostClassifier(base_estimator=DecisionTreeClassifier())),\n",
    "    ('gb', GradientBoostingClassifier()),\n",
    "    ('tree', DecisionTreeClassifier()),\n",
    "    ('logreg_pipe', logreg_pipe)\n",
    "])\n",
    "\n",
    "params = {\n",
    "    'gb__n_estimators': [50, 100],\n",
    "    'ada__base_estimator__max_depth': [2],\n",
    "    'knn_pipe__knn__n_neighbors': [3, 4]\n",
    "}\n",
    "\n",
    "params2 = {\n",
    "    'gb__n_estimators': [50, 100],\n",
    "    'ada__base_estimator__max_depth': [2]   \n",
    "}\n",
    "gs = GridSearchCV(vote, param_grid=params)\n",
    "gs2 = GridSearchCV(vote2, param_grid=params2)"
   ]
  },
  {
   "cell_type": "code",
   "execution_count": 4,
   "id": "a8ae0c4a",
   "metadata": {},
   "outputs": [],
   "source": [
    "X1 = token_title.drop('lib_or_neolib', axis = 1)\n",
    "y1 = token_title['lib_or_neolib']\n",
    "X2 = token_self.drop('lib_or_neolib', axis=1)\n",
    "y2 = token_self['lib_or_neolib']\n",
    "X3 = token_total.drop('lib_or_neolib', axis=1)\n",
    "y3 = token_total['lib_or_neolib']"
   ]
  },
  {
   "cell_type": "code",
   "execution_count": 15,
   "id": "23656fc9",
   "metadata": {},
   "outputs": [
    {
     "data": {
      "text/plain": [
       "(0.6203833808444255, 0.6264191600637472)"
      ]
     },
     "execution_count": 15,
     "metadata": {},
     "output_type": "execute_result"
    }
   ],
   "source": [
    "X1_train, X1_test, y1_train, y1_test = train_test_split(X1, y1, random_state = 42)\n",
    "gs.fit(X1_train, y1_train)\n",
    "gs2.fit(X1_train, y1_train)\n",
    "gs.best_score_, gs2.best_score_"
   ]
  },
  {
   "cell_type": "code",
   "execution_count": 16,
   "id": "2effbf2d",
   "metadata": {},
   "outputs": [
    {
     "data": {
      "text/plain": [
       "{'ada__base_estimator__max_depth': 2,\n",
       " 'gb__n_estimators': 50,\n",
       " 'knn_pipe__knn__n_neighbors': 3}"
      ]
     },
     "execution_count": 16,
     "metadata": {},
     "output_type": "execute_result"
    }
   ],
   "source": [
    "gs.best_params_"
   ]
  },
  {
   "cell_type": "code",
   "execution_count": 17,
   "id": "24564ca9",
   "metadata": {},
   "outputs": [
    {
     "data": {
      "text/plain": [
       "{'ada__base_estimator__max_depth': 2, 'gb__n_estimators': 100}"
      ]
     },
     "execution_count": 17,
     "metadata": {},
     "output_type": "execute_result"
    }
   ],
   "source": [
    "gs2.best_params_"
   ]
  },
  {
   "cell_type": "code",
   "execution_count": 18,
   "id": "a9bf21c5",
   "metadata": {},
   "outputs": [
    {
     "data": {
      "text/plain": [
       "(0.6877237851662404, 0.6849104859335039)"
      ]
     },
     "execution_count": 18,
     "metadata": {},
     "output_type": "execute_result"
    }
   ],
   "source": [
    "X2_train, X2_test, y2_train, y2_test = train_test_split(X2, y2, random_state = 42)\n",
    "gs.fit(X2_train, y2_train)\n",
    "gs2.fit(X2_train, y2_train)\n",
    "gs.best_score_, gs2.best_score_"
   ]
  },
  {
   "cell_type": "code",
   "execution_count": 19,
   "id": "d13f67df",
   "metadata": {},
   "outputs": [
    {
     "data": {
      "text/plain": [
       "{'ada__base_estimator__max_depth': 2,\n",
       " 'gb__n_estimators': 50,\n",
       " 'knn_pipe__knn__n_neighbors': 3}"
      ]
     },
     "execution_count": 19,
     "metadata": {},
     "output_type": "execute_result"
    }
   ],
   "source": [
    "gs.best_params_"
   ]
  },
  {
   "cell_type": "code",
   "execution_count": 20,
   "id": "1a14fe6a",
   "metadata": {},
   "outputs": [
    {
     "data": {
      "text/plain": [
       "{'ada__base_estimator__max_depth': 2, 'gb__n_estimators': 100}"
      ]
     },
     "execution_count": 20,
     "metadata": {},
     "output_type": "execute_result"
    }
   ],
   "source": [
    "gs2.best_params_"
   ]
  },
  {
   "cell_type": "code",
   "execution_count": 21,
   "id": "ad30a9c4",
   "metadata": {},
   "outputs": [
    {
     "data": {
      "text/plain": [
       "(0.6539359385872372, 0.6619806513882965)"
      ]
     },
     "execution_count": 21,
     "metadata": {},
     "output_type": "execute_result"
    }
   ],
   "source": [
    "X3_train, X3_test, y3_train, y3_test = train_test_split(X3, y3, random_state = 42)\n",
    "gs.fit(X3_train, y3_train)\n",
    "gs2.fit(X3_train, y3_train)\n",
    "gs.best_score_, gs2.best_score_"
   ]
  },
  {
   "cell_type": "code",
   "execution_count": 22,
   "id": "a091ef10",
   "metadata": {},
   "outputs": [
    {
     "data": {
      "text/plain": [
       "{'ada__base_estimator__max_depth': 2,\n",
       " 'gb__n_estimators': 100,\n",
       " 'knn_pipe__knn__n_neighbors': 4}"
      ]
     },
     "execution_count": 22,
     "metadata": {},
     "output_type": "execute_result"
    }
   ],
   "source": [
    "gs.best_params_"
   ]
  },
  {
   "cell_type": "code",
   "execution_count": 23,
   "id": "8c4682bd",
   "metadata": {},
   "outputs": [
    {
     "data": {
      "text/plain": [
       "{'ada__base_estimator__max_depth': 2, 'gb__n_estimators': 50}"
      ]
     },
     "execution_count": 23,
     "metadata": {},
     "output_type": "execute_result"
    }
   ],
   "source": [
    "gs2.best_params_"
   ]
  },
  {
   "cell_type": "markdown",
   "id": "0504829c",
   "metadata": {},
   "source": [
    "### USING BOOSTED kNN AND LogReg ON IDEAL TOKENIZED DATASETS"
   ]
  },
  {
   "cell_type": "code",
   "execution_count": 3,
   "id": "83106179",
   "metadata": {},
   "outputs": [],
   "source": [
    "token_total = pd.read_csv('../data/tokentotalideal.csv')\n",
    "token_title = pd.read_csv('../data/tokentitleideal.csv')\n",
    "token_self = pd.read_csv('../data/tokenselfideal.csv')\n",
    "\n",
    "token_title.drop('Unnamed: 0', axis = 1, inplace= True)\n",
    "token_self.drop('Unnamed: 0', axis = 1, inplace = True)\n",
    "token_total.drop('Unnamed: 0', axis = 1, inplace = True)"
   ]
  },
  {
   "cell_type": "code",
   "execution_count": 4,
   "id": "61ec8001",
   "metadata": {},
   "outputs": [],
   "source": [
    "AdaBoostClassifier(base_estimator=DecisionTreeClassifier())\n",
    "GradientBoostingClassifier()\n",
    "\n",
    "knn_pipe = Pipeline([\n",
    "    ('ss', StandardScaler()),\n",
    "    ('knn', KNeighborsClassifier())\n",
    "])\n",
    "\n",
    "logreg_pipe = Pipeline([\n",
    "    ('ss', StandardScaler()),\n",
    "    ('logreg', LogisticRegression(max_iter=1000))\n",
    "])\n",
    "\n",
    "vote = VotingClassifier([\n",
    "    ('ada', AdaBoostClassifier(base_estimator=DecisionTreeClassifier())),\n",
    "    ('gb', GradientBoostingClassifier()),\n",
    "    ('tree', DecisionTreeClassifier()),\n",
    "    ('knn_pipe', knn_pipe)\n",
    "])\n",
    "\n",
    "vote2 = VotingClassifier([\n",
    "    ('ada', AdaBoostClassifier(base_estimator=DecisionTreeClassifier())),\n",
    "    ('gb', GradientBoostingClassifier()),\n",
    "    ('tree', DecisionTreeClassifier()),\n",
    "    ('logreg_pipe', logreg_pipe)\n",
    "])\n",
    "\n",
    "params = {\n",
    "    'gb__n_estimators': [50, 100],\n",
    "    'ada__base_estimator__max_depth': [2],\n",
    "    'knn_pipe__knn__n_neighbors': [3, 4]\n",
    "}\n",
    "\n",
    "params2 = {\n",
    "    'gb__n_estimators': [50, 100],\n",
    "    'ada__base_estimator__max_depth': [2]   \n",
    "}\n",
    "gs = GridSearchCV(vote, param_grid=params)\n",
    "gs2 = GridSearchCV(vote2, param_grid=params2)"
   ]
  },
  {
   "cell_type": "code",
   "execution_count": 5,
   "id": "1052bb52",
   "metadata": {},
   "outputs": [],
   "source": [
    "X1 = token_title.drop('lib_or_neolib', axis = 1)\n",
    "y1 = token_title['lib_or_neolib']\n",
    "X2 = token_self.drop('lib_or_neolib', axis=1)\n",
    "y2 = token_self['lib_or_neolib']\n",
    "X3 = token_total.drop('lib_or_neolib', axis=1)\n",
    "y3 = token_total['lib_or_neolib']"
   ]
  },
  {
   "cell_type": "code",
   "execution_count": 6,
   "id": "0f6de570",
   "metadata": {},
   "outputs": [
    {
     "data": {
      "text/plain": [
       "(0.6237570424906287, 0.6277636865614689)"
      ]
     },
     "execution_count": 6,
     "metadata": {},
     "output_type": "execute_result"
    }
   ],
   "source": [
    "X1_train, X1_test, y1_train, y1_test = train_test_split(X1, y1, random_state = 42)\n",
    "gs.fit(X1_train, y1_train)\n",
    "gs2.fit(X1_train, y1_train)\n",
    "gs.best_score_, gs2.best_score_"
   ]
  },
  {
   "cell_type": "code",
   "execution_count": 7,
   "id": "fb7010a9",
   "metadata": {},
   "outputs": [
    {
     "data": {
      "text/plain": [
       "{'ada__base_estimator__max_depth': 2,\n",
       " 'gb__n_estimators': 50,\n",
       " 'knn_pipe__knn__n_neighbors': 3}"
      ]
     },
     "execution_count": 7,
     "metadata": {},
     "output_type": "execute_result"
    }
   ],
   "source": [
    "gs.best_params_"
   ]
  },
  {
   "cell_type": "code",
   "execution_count": 8,
   "id": "41c82493",
   "metadata": {},
   "outputs": [
    {
     "data": {
      "text/plain": [
       "{'ada__base_estimator__max_depth': 2, 'gb__n_estimators': 100}"
      ]
     },
     "execution_count": 8,
     "metadata": {},
     "output_type": "execute_result"
    }
   ],
   "source": [
    "gs2.best_params_"
   ]
  },
  {
   "cell_type": "code",
   "execution_count": 9,
   "id": "d727a081",
   "metadata": {},
   "outputs": [
    {
     "data": {
      "text/plain": [
       "(0.638235294117647, 0.6528132992327367)"
      ]
     },
     "execution_count": 9,
     "metadata": {},
     "output_type": "execute_result"
    }
   ],
   "source": [
    "X2_train, X2_test, y2_train, y2_test = train_test_split(X2, y2, random_state = 42)\n",
    "gs.fit(X2_train, y2_train)\n",
    "gs2.fit(X2_train, y2_train)\n",
    "gs.best_score_, gs2.best_score_"
   ]
  },
  {
   "cell_type": "code",
   "execution_count": 10,
   "id": "2a46c2ae",
   "metadata": {},
   "outputs": [
    {
     "data": {
      "text/plain": [
       "{'ada__base_estimator__max_depth': 2,\n",
       " 'gb__n_estimators': 100,\n",
       " 'knn_pipe__knn__n_neighbors': 3}"
      ]
     },
     "execution_count": 10,
     "metadata": {},
     "output_type": "execute_result"
    }
   ],
   "source": [
    "gs.best_params_"
   ]
  },
  {
   "cell_type": "code",
   "execution_count": 11,
   "id": "d69d6a9c",
   "metadata": {},
   "outputs": [
    {
     "data": {
      "text/plain": [
       "{'ada__base_estimator__max_depth': 2, 'gb__n_estimators': 100}"
      ]
     },
     "execution_count": 11,
     "metadata": {},
     "output_type": "execute_result"
    }
   ],
   "source": [
    "gs2.best_params_"
   ]
  },
  {
   "cell_type": "code",
   "execution_count": 12,
   "id": "7b530f6a",
   "metadata": {},
   "outputs": [
    {
     "data": {
      "text/plain": [
       "(0.6163565352068416, 0.627079077910709)"
      ]
     },
     "execution_count": 12,
     "metadata": {},
     "output_type": "execute_result"
    }
   ],
   "source": [
    "X3_train, X3_test, y3_train, y3_test = train_test_split(X3, y3, random_state = 42)\n",
    "gs.fit(X3_train, y3_train)\n",
    "gs2.fit(X3_train, y3_train)\n",
    "gs.best_score_, gs2.best_score_"
   ]
  },
  {
   "cell_type": "code",
   "execution_count": 13,
   "id": "b614aa65",
   "metadata": {},
   "outputs": [
    {
     "data": {
      "text/plain": [
       "{'ada__base_estimator__max_depth': 2,\n",
       " 'gb__n_estimators': 100,\n",
       " 'knn_pipe__knn__n_neighbors': 4}"
      ]
     },
     "execution_count": 13,
     "metadata": {},
     "output_type": "execute_result"
    }
   ],
   "source": [
    "gs.best_params_"
   ]
  },
  {
   "cell_type": "code",
   "execution_count": 14,
   "id": "d84f7b0b",
   "metadata": {},
   "outputs": [
    {
     "data": {
      "text/plain": [
       "{'ada__base_estimator__max_depth': 2, 'gb__n_estimators': 100}"
      ]
     },
     "execution_count": 14,
     "metadata": {},
     "output_type": "execute_result"
    }
   ],
   "source": [
    "gs2.best_params_"
   ]
  },
  {
   "cell_type": "code",
   "execution_count": null,
   "id": "eb58d349",
   "metadata": {},
   "outputs": [],
   "source": []
  }
 ],
 "metadata": {
  "kernelspec": {
   "display_name": "Python 3",
   "language": "python",
   "name": "python3"
  },
  "language_info": {
   "codemirror_mode": {
    "name": "ipython",
    "version": 3
   },
   "file_extension": ".py",
   "mimetype": "text/x-python",
   "name": "python",
   "nbconvert_exporter": "python",
   "pygments_lexer": "ipython3",
   "version": "3.8.8"
  }
 },
 "nbformat": 4,
 "nbformat_minor": 5
}
