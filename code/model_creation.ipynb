{
 "cells": [
  {
   "cell_type": "code",
   "execution_count": 1,
   "id": "d7452c06",
   "metadata": {},
   "outputs": [],
   "source": [
    "import pandas as pd\n",
    "import numpy as np\n",
    "import matplotlib.pyplot as plt\n",
    "import seaborn as sns\n",
    "\n",
    "from sklearn.linear_model import LogisticRegression\n",
    "from sklearn.feature_extraction.text import CountVectorizer\n",
    "from sklearn.pipeline import Pipeline\n",
    "from sklearn.model_selection import train_test_split, GridSearchCV, cross_val_score\n",
    "from sklearn.metrics import plot_confusion_matrix\n",
    "\n",
    "from sklearn.tree import DecisionTreeClassifier"
   ]
  },
  {
   "cell_type": "code",
   "execution_count": 2,
   "id": "93ec627c",
   "metadata": {},
   "outputs": [],
   "source": [
    "df = pd.read_csv('../data/dataframesfull.csv')\n",
    "neolib = pd.read_csv('../data/neoliberal.csv')\n",
    "libertarian = pd.read_csv('../data/libertarian.csv')"
   ]
  },
  {
   "cell_type": "code",
   "execution_count": 3,
   "id": "199353cc",
   "metadata": {},
   "outputs": [
    {
     "data": {
      "text/html": [
       "<div>\n",
       "<style scoped>\n",
       "    .dataframe tbody tr th:only-of-type {\n",
       "        vertical-align: middle;\n",
       "    }\n",
       "\n",
       "    .dataframe tbody tr th {\n",
       "        vertical-align: top;\n",
       "    }\n",
       "\n",
       "    .dataframe thead th {\n",
       "        text-align: right;\n",
       "    }\n",
       "</style>\n",
       "<table border=\"1\" class=\"dataframe\">\n",
       "  <thead>\n",
       "    <tr style=\"text-align: right;\">\n",
       "      <th></th>\n",
       "      <th>Unnamed: 0</th>\n",
       "      <th>all_awardings</th>\n",
       "      <th>allow_live_comments</th>\n",
       "      <th>author</th>\n",
       "      <th>author_flair_css_class</th>\n",
       "      <th>author_flair_richtext</th>\n",
       "      <th>author_flair_template_id</th>\n",
       "      <th>author_flair_text</th>\n",
       "      <th>author_flair_text_color</th>\n",
       "      <th>author_flair_type</th>\n",
       "      <th>...</th>\n",
       "      <th>media</th>\n",
       "      <th>media_embed</th>\n",
       "      <th>secure_media</th>\n",
       "      <th>secure_media_embed</th>\n",
       "      <th>removed_by_category</th>\n",
       "      <th>crosspost_parent</th>\n",
       "      <th>crosspost_parent_list</th>\n",
       "      <th>author_cakeday</th>\n",
       "      <th>edited</th>\n",
       "      <th>gilded</th>\n",
       "    </tr>\n",
       "  </thead>\n",
       "  <tbody>\n",
       "    <tr>\n",
       "      <th>0</th>\n",
       "      <td>0</td>\n",
       "      <td>[]</td>\n",
       "      <td>False</td>\n",
       "      <td>elchiguire</td>\n",
       "      <td>NaN</td>\n",
       "      <td>[{'a': ':un:', 'e': 'emoji', 'u': 'https://emo...</td>\n",
       "      <td>876d0d2a-2c39-11ea-91c6-0e32b0c706f3</td>\n",
       "      <td>:un: United Nations</td>\n",
       "      <td>dark</td>\n",
       "      <td>richtext</td>\n",
       "      <td>...</td>\n",
       "      <td>NaN</td>\n",
       "      <td>NaN</td>\n",
       "      <td>NaN</td>\n",
       "      <td>NaN</td>\n",
       "      <td>NaN</td>\n",
       "      <td>NaN</td>\n",
       "      <td>NaN</td>\n",
       "      <td>NaN</td>\n",
       "      <td>NaN</td>\n",
       "      <td>NaN</td>\n",
       "    </tr>\n",
       "    <tr>\n",
       "      <th>1</th>\n",
       "      <td>1</td>\n",
       "      <td>[]</td>\n",
       "      <td>False</td>\n",
       "      <td>ApacheWay</td>\n",
       "      <td>NaN</td>\n",
       "      <td>[]</td>\n",
       "      <td>NaN</td>\n",
       "      <td>NaN</td>\n",
       "      <td>NaN</td>\n",
       "      <td>text</td>\n",
       "      <td>...</td>\n",
       "      <td>NaN</td>\n",
       "      <td>NaN</td>\n",
       "      <td>NaN</td>\n",
       "      <td>NaN</td>\n",
       "      <td>NaN</td>\n",
       "      <td>NaN</td>\n",
       "      <td>NaN</td>\n",
       "      <td>NaN</td>\n",
       "      <td>NaN</td>\n",
       "      <td>NaN</td>\n",
       "    </tr>\n",
       "    <tr>\n",
       "      <th>2</th>\n",
       "      <td>2</td>\n",
       "      <td>[]</td>\n",
       "      <td>False</td>\n",
       "      <td>Kyokyodoka</td>\n",
       "      <td>NaN</td>\n",
       "      <td>[]</td>\n",
       "      <td>NaN</td>\n",
       "      <td>NaN</td>\n",
       "      <td>NaN</td>\n",
       "      <td>text</td>\n",
       "      <td>...</td>\n",
       "      <td>NaN</td>\n",
       "      <td>NaN</td>\n",
       "      <td>NaN</td>\n",
       "      <td>NaN</td>\n",
       "      <td>NaN</td>\n",
       "      <td>NaN</td>\n",
       "      <td>NaN</td>\n",
       "      <td>NaN</td>\n",
       "      <td>NaN</td>\n",
       "      <td>NaN</td>\n",
       "    </tr>\n",
       "    <tr>\n",
       "      <th>3</th>\n",
       "      <td>3</td>\n",
       "      <td>[]</td>\n",
       "      <td>False</td>\n",
       "      <td>sean_zzz</td>\n",
       "      <td>NaN</td>\n",
       "      <td>[{'a': ':worldbank:', 'e': 'emoji', 'u': 'http...</td>\n",
       "      <td>8912c566-2c39-11ea-88bd-0e0047813a75</td>\n",
       "      <td>:worldbank: World Bank</td>\n",
       "      <td>dark</td>\n",
       "      <td>richtext</td>\n",
       "      <td>...</td>\n",
       "      <td>NaN</td>\n",
       "      <td>NaN</td>\n",
       "      <td>NaN</td>\n",
       "      <td>NaN</td>\n",
       "      <td>NaN</td>\n",
       "      <td>NaN</td>\n",
       "      <td>NaN</td>\n",
       "      <td>NaN</td>\n",
       "      <td>NaN</td>\n",
       "      <td>NaN</td>\n",
       "    </tr>\n",
       "    <tr>\n",
       "      <th>4</th>\n",
       "      <td>4</td>\n",
       "      <td>[]</td>\n",
       "      <td>False</td>\n",
       "      <td>BipartizanBelgrade</td>\n",
       "      <td>NaN</td>\n",
       "      <td>[{'a': ':friedman:', 'e': 'emoji', 'u': 'https...</td>\n",
       "      <td>65bd9cbc-2c39-11ea-9cd9-0e0abbbf4fb9</td>\n",
       "      <td>:friedman: Milton Friedman</td>\n",
       "      <td>dark</td>\n",
       "      <td>richtext</td>\n",
       "      <td>...</td>\n",
       "      <td>NaN</td>\n",
       "      <td>NaN</td>\n",
       "      <td>NaN</td>\n",
       "      <td>NaN</td>\n",
       "      <td>NaN</td>\n",
       "      <td>NaN</td>\n",
       "      <td>NaN</td>\n",
       "      <td>NaN</td>\n",
       "      <td>NaN</td>\n",
       "      <td>NaN</td>\n",
       "    </tr>\n",
       "  </tbody>\n",
       "</table>\n",
       "<p>5 rows × 79 columns</p>\n",
       "</div>"
      ],
      "text/plain": [
       "   Unnamed: 0 all_awardings  allow_live_comments              author  \\\n",
       "0           0            []                False          elchiguire   \n",
       "1           1            []                False           ApacheWay   \n",
       "2           2            []                False          Kyokyodoka   \n",
       "3           3            []                False            sean_zzz   \n",
       "4           4            []                False  BipartizanBelgrade   \n",
       "\n",
       "  author_flair_css_class                              author_flair_richtext  \\\n",
       "0                    NaN  [{'a': ':un:', 'e': 'emoji', 'u': 'https://emo...   \n",
       "1                    NaN                                                 []   \n",
       "2                    NaN                                                 []   \n",
       "3                    NaN  [{'a': ':worldbank:', 'e': 'emoji', 'u': 'http...   \n",
       "4                    NaN  [{'a': ':friedman:', 'e': 'emoji', 'u': 'https...   \n",
       "\n",
       "               author_flair_template_id           author_flair_text  \\\n",
       "0  876d0d2a-2c39-11ea-91c6-0e32b0c706f3         :un: United Nations   \n",
       "1                                   NaN                         NaN   \n",
       "2                                   NaN                         NaN   \n",
       "3  8912c566-2c39-11ea-88bd-0e0047813a75      :worldbank: World Bank   \n",
       "4  65bd9cbc-2c39-11ea-9cd9-0e0abbbf4fb9  :friedman: Milton Friedman   \n",
       "\n",
       "  author_flair_text_color author_flair_type  ... media  media_embed  \\\n",
       "0                    dark          richtext  ...   NaN          NaN   \n",
       "1                     NaN              text  ...   NaN          NaN   \n",
       "2                     NaN              text  ...   NaN          NaN   \n",
       "3                    dark          richtext  ...   NaN          NaN   \n",
       "4                    dark          richtext  ...   NaN          NaN   \n",
       "\n",
       "   secure_media secure_media_embed  removed_by_category  crosspost_parent  \\\n",
       "0           NaN                NaN                  NaN               NaN   \n",
       "1           NaN                NaN                  NaN               NaN   \n",
       "2           NaN                NaN                  NaN               NaN   \n",
       "3           NaN                NaN                  NaN               NaN   \n",
       "4           NaN                NaN                  NaN               NaN   \n",
       "\n",
       "   crosspost_parent_list author_cakeday edited gilded  \n",
       "0                    NaN            NaN    NaN    NaN  \n",
       "1                    NaN            NaN    NaN    NaN  \n",
       "2                    NaN            NaN    NaN    NaN  \n",
       "3                    NaN            NaN    NaN    NaN  \n",
       "4                    NaN            NaN    NaN    NaN  \n",
       "\n",
       "[5 rows x 79 columns]"
      ]
     },
     "execution_count": 3,
     "metadata": {},
     "output_type": "execute_result"
    }
   ],
   "source": [
    "neolib.head()"
   ]
  },
  {
   "cell_type": "code",
   "execution_count": 4,
   "id": "e9e2032e",
   "metadata": {},
   "outputs": [
    {
     "data": {
      "text/html": [
       "<div>\n",
       "<style scoped>\n",
       "    .dataframe tbody tr th:only-of-type {\n",
       "        vertical-align: middle;\n",
       "    }\n",
       "\n",
       "    .dataframe tbody tr th {\n",
       "        vertical-align: top;\n",
       "    }\n",
       "\n",
       "    .dataframe thead th {\n",
       "        text-align: right;\n",
       "    }\n",
       "</style>\n",
       "<table border=\"1\" class=\"dataframe\">\n",
       "  <thead>\n",
       "    <tr style=\"text-align: right;\">\n",
       "      <th></th>\n",
       "      <th>all_awardings</th>\n",
       "      <th>allow_live_comments</th>\n",
       "      <th>author</th>\n",
       "      <th>author_flair_css_class</th>\n",
       "      <th>author_flair_richtext</th>\n",
       "      <th>author_flair_template_id</th>\n",
       "      <th>author_flair_text</th>\n",
       "      <th>author_flair_text_color</th>\n",
       "      <th>author_flair_type</th>\n",
       "      <th>author_fullname</th>\n",
       "      <th>...</th>\n",
       "      <th>media</th>\n",
       "      <th>media_embed</th>\n",
       "      <th>secure_media</th>\n",
       "      <th>secure_media_embed</th>\n",
       "      <th>removed_by_category</th>\n",
       "      <th>crosspost_parent</th>\n",
       "      <th>crosspost_parent_list</th>\n",
       "      <th>author_cakeday</th>\n",
       "      <th>edited</th>\n",
       "      <th>gilded</th>\n",
       "    </tr>\n",
       "  </thead>\n",
       "  <tbody>\n",
       "    <tr>\n",
       "      <th>0</th>\n",
       "      <td>[]</td>\n",
       "      <td>False</td>\n",
       "      <td>elchiguire</td>\n",
       "      <td>NaN</td>\n",
       "      <td>[{'a': ':un:', 'e': 'emoji', 'u': 'https://emo...</td>\n",
       "      <td>876d0d2a-2c39-11ea-91c6-0e32b0c706f3</td>\n",
       "      <td>:un: United Nations</td>\n",
       "      <td>dark</td>\n",
       "      <td>richtext</td>\n",
       "      <td>t2_g0ghp</td>\n",
       "      <td>...</td>\n",
       "      <td>NaN</td>\n",
       "      <td>NaN</td>\n",
       "      <td>NaN</td>\n",
       "      <td>NaN</td>\n",
       "      <td>NaN</td>\n",
       "      <td>NaN</td>\n",
       "      <td>NaN</td>\n",
       "      <td>NaN</td>\n",
       "      <td>NaN</td>\n",
       "      <td>NaN</td>\n",
       "    </tr>\n",
       "    <tr>\n",
       "      <th>1</th>\n",
       "      <td>[]</td>\n",
       "      <td>False</td>\n",
       "      <td>ApacheWay</td>\n",
       "      <td>NaN</td>\n",
       "      <td>[]</td>\n",
       "      <td>NaN</td>\n",
       "      <td>NaN</td>\n",
       "      <td>NaN</td>\n",
       "      <td>text</td>\n",
       "      <td>t2_1aw062bq</td>\n",
       "      <td>...</td>\n",
       "      <td>NaN</td>\n",
       "      <td>NaN</td>\n",
       "      <td>NaN</td>\n",
       "      <td>NaN</td>\n",
       "      <td>NaN</td>\n",
       "      <td>NaN</td>\n",
       "      <td>NaN</td>\n",
       "      <td>NaN</td>\n",
       "      <td>NaN</td>\n",
       "      <td>NaN</td>\n",
       "    </tr>\n",
       "    <tr>\n",
       "      <th>2</th>\n",
       "      <td>[]</td>\n",
       "      <td>False</td>\n",
       "      <td>Kyokyodoka</td>\n",
       "      <td>NaN</td>\n",
       "      <td>[]</td>\n",
       "      <td>NaN</td>\n",
       "      <td>NaN</td>\n",
       "      <td>NaN</td>\n",
       "      <td>text</td>\n",
       "      <td>t2_645jw739</td>\n",
       "      <td>...</td>\n",
       "      <td>NaN</td>\n",
       "      <td>NaN</td>\n",
       "      <td>NaN</td>\n",
       "      <td>NaN</td>\n",
       "      <td>NaN</td>\n",
       "      <td>NaN</td>\n",
       "      <td>NaN</td>\n",
       "      <td>NaN</td>\n",
       "      <td>NaN</td>\n",
       "      <td>NaN</td>\n",
       "    </tr>\n",
       "    <tr>\n",
       "      <th>3</th>\n",
       "      <td>[]</td>\n",
       "      <td>False</td>\n",
       "      <td>sean_zzz</td>\n",
       "      <td>NaN</td>\n",
       "      <td>[{'a': ':worldbank:', 'e': 'emoji', 'u': 'http...</td>\n",
       "      <td>8912c566-2c39-11ea-88bd-0e0047813a75</td>\n",
       "      <td>:worldbank: World Bank</td>\n",
       "      <td>dark</td>\n",
       "      <td>richtext</td>\n",
       "      <td>t2_2z0li5f0</td>\n",
       "      <td>...</td>\n",
       "      <td>NaN</td>\n",
       "      <td>NaN</td>\n",
       "      <td>NaN</td>\n",
       "      <td>NaN</td>\n",
       "      <td>NaN</td>\n",
       "      <td>NaN</td>\n",
       "      <td>NaN</td>\n",
       "      <td>NaN</td>\n",
       "      <td>NaN</td>\n",
       "      <td>NaN</td>\n",
       "    </tr>\n",
       "    <tr>\n",
       "      <th>4</th>\n",
       "      <td>[]</td>\n",
       "      <td>False</td>\n",
       "      <td>BipartizanBelgrade</td>\n",
       "      <td>NaN</td>\n",
       "      <td>[{'a': ':friedman:', 'e': 'emoji', 'u': 'https...</td>\n",
       "      <td>65bd9cbc-2c39-11ea-9cd9-0e0abbbf4fb9</td>\n",
       "      <td>:friedman: Milton Friedman</td>\n",
       "      <td>dark</td>\n",
       "      <td>richtext</td>\n",
       "      <td>t2_rsfab</td>\n",
       "      <td>...</td>\n",
       "      <td>NaN</td>\n",
       "      <td>NaN</td>\n",
       "      <td>NaN</td>\n",
       "      <td>NaN</td>\n",
       "      <td>NaN</td>\n",
       "      <td>NaN</td>\n",
       "      <td>NaN</td>\n",
       "      <td>NaN</td>\n",
       "      <td>NaN</td>\n",
       "      <td>NaN</td>\n",
       "    </tr>\n",
       "  </tbody>\n",
       "</table>\n",
       "<p>5 rows × 78 columns</p>\n",
       "</div>"
      ],
      "text/plain": [
       "  all_awardings  allow_live_comments              author  \\\n",
       "0            []                False          elchiguire   \n",
       "1            []                False           ApacheWay   \n",
       "2            []                False          Kyokyodoka   \n",
       "3            []                False            sean_zzz   \n",
       "4            []                False  BipartizanBelgrade   \n",
       "\n",
       "  author_flair_css_class                              author_flair_richtext  \\\n",
       "0                    NaN  [{'a': ':un:', 'e': 'emoji', 'u': 'https://emo...   \n",
       "1                    NaN                                                 []   \n",
       "2                    NaN                                                 []   \n",
       "3                    NaN  [{'a': ':worldbank:', 'e': 'emoji', 'u': 'http...   \n",
       "4                    NaN  [{'a': ':friedman:', 'e': 'emoji', 'u': 'https...   \n",
       "\n",
       "               author_flair_template_id           author_flair_text  \\\n",
       "0  876d0d2a-2c39-11ea-91c6-0e32b0c706f3         :un: United Nations   \n",
       "1                                   NaN                         NaN   \n",
       "2                                   NaN                         NaN   \n",
       "3  8912c566-2c39-11ea-88bd-0e0047813a75      :worldbank: World Bank   \n",
       "4  65bd9cbc-2c39-11ea-9cd9-0e0abbbf4fb9  :friedman: Milton Friedman   \n",
       "\n",
       "  author_flair_text_color author_flair_type author_fullname  ...  media  \\\n",
       "0                    dark          richtext        t2_g0ghp  ...    NaN   \n",
       "1                     NaN              text     t2_1aw062bq  ...    NaN   \n",
       "2                     NaN              text     t2_645jw739  ...    NaN   \n",
       "3                    dark          richtext     t2_2z0li5f0  ...    NaN   \n",
       "4                    dark          richtext        t2_rsfab  ...    NaN   \n",
       "\n",
       "   media_embed secure_media  secure_media_embed  removed_by_category  \\\n",
       "0          NaN          NaN                 NaN                  NaN   \n",
       "1          NaN          NaN                 NaN                  NaN   \n",
       "2          NaN          NaN                 NaN                  NaN   \n",
       "3          NaN          NaN                 NaN                  NaN   \n",
       "4          NaN          NaN                 NaN                  NaN   \n",
       "\n",
       "   crosspost_parent crosspost_parent_list author_cakeday edited gilded  \n",
       "0               NaN                   NaN            NaN    NaN    NaN  \n",
       "1               NaN                   NaN            NaN    NaN    NaN  \n",
       "2               NaN                   NaN            NaN    NaN    NaN  \n",
       "3               NaN                   NaN            NaN    NaN    NaN  \n",
       "4               NaN                   NaN            NaN    NaN    NaN  \n",
       "\n",
       "[5 rows x 78 columns]"
      ]
     },
     "execution_count": 4,
     "metadata": {},
     "output_type": "execute_result"
    }
   ],
   "source": [
    "neolib.drop('Unnamed: 0', axis = 1, inplace = True)\n",
    "\n",
    "neolib.head()"
   ]
  },
  {
   "cell_type": "code",
   "execution_count": 5,
   "id": "75cea4c5",
   "metadata": {},
   "outputs": [
    {
     "data": {
      "text/html": [
       "<div>\n",
       "<style scoped>\n",
       "    .dataframe tbody tr th:only-of-type {\n",
       "        vertical-align: middle;\n",
       "    }\n",
       "\n",
       "    .dataframe tbody tr th {\n",
       "        vertical-align: top;\n",
       "    }\n",
       "\n",
       "    .dataframe thead th {\n",
       "        text-align: right;\n",
       "    }\n",
       "</style>\n",
       "<table border=\"1\" class=\"dataframe\">\n",
       "  <thead>\n",
       "    <tr style=\"text-align: right;\">\n",
       "      <th></th>\n",
       "      <th>all_awardings</th>\n",
       "      <th>allow_live_comments</th>\n",
       "      <th>author</th>\n",
       "      <th>author_flair_css_class</th>\n",
       "      <th>author_flair_richtext</th>\n",
       "      <th>author_flair_template_id</th>\n",
       "      <th>author_flair_text</th>\n",
       "      <th>author_flair_text_color</th>\n",
       "      <th>author_flair_type</th>\n",
       "      <th>author_fullname</th>\n",
       "      <th>...</th>\n",
       "      <th>removed_by_category</th>\n",
       "      <th>crosspost_parent</th>\n",
       "      <th>crosspost_parent_list</th>\n",
       "      <th>author_cakeday</th>\n",
       "      <th>edited</th>\n",
       "      <th>gilded</th>\n",
       "      <th>link_flair_css_class</th>\n",
       "      <th>is_created_from_ads_ui</th>\n",
       "      <th>banned_by</th>\n",
       "      <th>author_is_blocked</th>\n",
       "    </tr>\n",
       "  </thead>\n",
       "  <tbody>\n",
       "    <tr>\n",
       "      <th>0</th>\n",
       "      <td>[]</td>\n",
       "      <td>False</td>\n",
       "      <td>elchiguire</td>\n",
       "      <td>NaN</td>\n",
       "      <td>[{'a': ':un:', 'e': 'emoji', 'u': 'https://emo...</td>\n",
       "      <td>876d0d2a-2c39-11ea-91c6-0e32b0c706f3</td>\n",
       "      <td>:un: United Nations</td>\n",
       "      <td>dark</td>\n",
       "      <td>richtext</td>\n",
       "      <td>t2_g0ghp</td>\n",
       "      <td>...</td>\n",
       "      <td>NaN</td>\n",
       "      <td>NaN</td>\n",
       "      <td>NaN</td>\n",
       "      <td>NaN</td>\n",
       "      <td>NaN</td>\n",
       "      <td>NaN</td>\n",
       "      <td>NaN</td>\n",
       "      <td>NaN</td>\n",
       "      <td>NaN</td>\n",
       "      <td>NaN</td>\n",
       "    </tr>\n",
       "    <tr>\n",
       "      <th>1</th>\n",
       "      <td>[]</td>\n",
       "      <td>False</td>\n",
       "      <td>ApacheWay</td>\n",
       "      <td>NaN</td>\n",
       "      <td>[]</td>\n",
       "      <td>NaN</td>\n",
       "      <td>NaN</td>\n",
       "      <td>NaN</td>\n",
       "      <td>text</td>\n",
       "      <td>t2_1aw062bq</td>\n",
       "      <td>...</td>\n",
       "      <td>NaN</td>\n",
       "      <td>NaN</td>\n",
       "      <td>NaN</td>\n",
       "      <td>NaN</td>\n",
       "      <td>NaN</td>\n",
       "      <td>NaN</td>\n",
       "      <td>NaN</td>\n",
       "      <td>NaN</td>\n",
       "      <td>NaN</td>\n",
       "      <td>NaN</td>\n",
       "    </tr>\n",
       "    <tr>\n",
       "      <th>2</th>\n",
       "      <td>[]</td>\n",
       "      <td>False</td>\n",
       "      <td>Kyokyodoka</td>\n",
       "      <td>NaN</td>\n",
       "      <td>[]</td>\n",
       "      <td>NaN</td>\n",
       "      <td>NaN</td>\n",
       "      <td>NaN</td>\n",
       "      <td>text</td>\n",
       "      <td>t2_645jw739</td>\n",
       "      <td>...</td>\n",
       "      <td>NaN</td>\n",
       "      <td>NaN</td>\n",
       "      <td>NaN</td>\n",
       "      <td>NaN</td>\n",
       "      <td>NaN</td>\n",
       "      <td>NaN</td>\n",
       "      <td>NaN</td>\n",
       "      <td>NaN</td>\n",
       "      <td>NaN</td>\n",
       "      <td>NaN</td>\n",
       "    </tr>\n",
       "    <tr>\n",
       "      <th>3</th>\n",
       "      <td>[]</td>\n",
       "      <td>False</td>\n",
       "      <td>sean_zzz</td>\n",
       "      <td>NaN</td>\n",
       "      <td>[{'a': ':worldbank:', 'e': 'emoji', 'u': 'http...</td>\n",
       "      <td>8912c566-2c39-11ea-88bd-0e0047813a75</td>\n",
       "      <td>:worldbank: World Bank</td>\n",
       "      <td>dark</td>\n",
       "      <td>richtext</td>\n",
       "      <td>t2_2z0li5f0</td>\n",
       "      <td>...</td>\n",
       "      <td>NaN</td>\n",
       "      <td>NaN</td>\n",
       "      <td>NaN</td>\n",
       "      <td>NaN</td>\n",
       "      <td>NaN</td>\n",
       "      <td>NaN</td>\n",
       "      <td>NaN</td>\n",
       "      <td>NaN</td>\n",
       "      <td>NaN</td>\n",
       "      <td>NaN</td>\n",
       "    </tr>\n",
       "    <tr>\n",
       "      <th>4</th>\n",
       "      <td>[]</td>\n",
       "      <td>False</td>\n",
       "      <td>BipartizanBelgrade</td>\n",
       "      <td>NaN</td>\n",
       "      <td>[{'a': ':friedman:', 'e': 'emoji', 'u': 'https...</td>\n",
       "      <td>65bd9cbc-2c39-11ea-9cd9-0e0abbbf4fb9</td>\n",
       "      <td>:friedman: Milton Friedman</td>\n",
       "      <td>dark</td>\n",
       "      <td>richtext</td>\n",
       "      <td>t2_rsfab</td>\n",
       "      <td>...</td>\n",
       "      <td>NaN</td>\n",
       "      <td>NaN</td>\n",
       "      <td>NaN</td>\n",
       "      <td>NaN</td>\n",
       "      <td>NaN</td>\n",
       "      <td>NaN</td>\n",
       "      <td>NaN</td>\n",
       "      <td>NaN</td>\n",
       "      <td>NaN</td>\n",
       "      <td>NaN</td>\n",
       "    </tr>\n",
       "  </tbody>\n",
       "</table>\n",
       "<p>5 rows × 82 columns</p>\n",
       "</div>"
      ],
      "text/plain": [
       "  all_awardings  allow_live_comments              author  \\\n",
       "0            []                False          elchiguire   \n",
       "1            []                False           ApacheWay   \n",
       "2            []                False          Kyokyodoka   \n",
       "3            []                False            sean_zzz   \n",
       "4            []                False  BipartizanBelgrade   \n",
       "\n",
       "  author_flair_css_class                              author_flair_richtext  \\\n",
       "0                    NaN  [{'a': ':un:', 'e': 'emoji', 'u': 'https://emo...   \n",
       "1                    NaN                                                 []   \n",
       "2                    NaN                                                 []   \n",
       "3                    NaN  [{'a': ':worldbank:', 'e': 'emoji', 'u': 'http...   \n",
       "4                    NaN  [{'a': ':friedman:', 'e': 'emoji', 'u': 'https...   \n",
       "\n",
       "               author_flair_template_id           author_flair_text  \\\n",
       "0  876d0d2a-2c39-11ea-91c6-0e32b0c706f3         :un: United Nations   \n",
       "1                                   NaN                         NaN   \n",
       "2                                   NaN                         NaN   \n",
       "3  8912c566-2c39-11ea-88bd-0e0047813a75      :worldbank: World Bank   \n",
       "4  65bd9cbc-2c39-11ea-9cd9-0e0abbbf4fb9  :friedman: Milton Friedman   \n",
       "\n",
       "  author_flair_text_color author_flair_type author_fullname  ...  \\\n",
       "0                    dark          richtext        t2_g0ghp  ...   \n",
       "1                     NaN              text     t2_1aw062bq  ...   \n",
       "2                     NaN              text     t2_645jw739  ...   \n",
       "3                    dark          richtext     t2_2z0li5f0  ...   \n",
       "4                    dark          richtext        t2_rsfab  ...   \n",
       "\n",
       "  removed_by_category crosspost_parent crosspost_parent_list  author_cakeday  \\\n",
       "0                 NaN              NaN                   NaN             NaN   \n",
       "1                 NaN              NaN                   NaN             NaN   \n",
       "2                 NaN              NaN                   NaN             NaN   \n",
       "3                 NaN              NaN                   NaN             NaN   \n",
       "4                 NaN              NaN                   NaN             NaN   \n",
       "\n",
       "   edited  gilded link_flair_css_class is_created_from_ads_ui banned_by  \\\n",
       "0     NaN     NaN                  NaN                    NaN       NaN   \n",
       "1     NaN     NaN                  NaN                    NaN       NaN   \n",
       "2     NaN     NaN                  NaN                    NaN       NaN   \n",
       "3     NaN     NaN                  NaN                    NaN       NaN   \n",
       "4     NaN     NaN                  NaN                    NaN       NaN   \n",
       "\n",
       "  author_is_blocked  \n",
       "0               NaN  \n",
       "1               NaN  \n",
       "2               NaN  \n",
       "3               NaN  \n",
       "4               NaN  \n",
       "\n",
       "[5 rows x 82 columns]"
      ]
     },
     "execution_count": 5,
     "metadata": {},
     "output_type": "execute_result"
    }
   ],
   "source": [
    "df.drop('Unnamed: 0', axis = 1, inplace = True)\n",
    "\n",
    "df.head()"
   ]
  },
  {
   "cell_type": "code",
   "execution_count": 6,
   "id": "2c8a651c",
   "metadata": {},
   "outputs": [
    {
     "data": {
      "text/html": [
       "<div>\n",
       "<style scoped>\n",
       "    .dataframe tbody tr th:only-of-type {\n",
       "        vertical-align: middle;\n",
       "    }\n",
       "\n",
       "    .dataframe tbody tr th {\n",
       "        vertical-align: top;\n",
       "    }\n",
       "\n",
       "    .dataframe thead th {\n",
       "        text-align: right;\n",
       "    }\n",
       "</style>\n",
       "<table border=\"1\" class=\"dataframe\">\n",
       "  <thead>\n",
       "    <tr style=\"text-align: right;\">\n",
       "      <th></th>\n",
       "      <th>all_awardings</th>\n",
       "      <th>allow_live_comments</th>\n",
       "      <th>author</th>\n",
       "      <th>author_flair_css_class</th>\n",
       "      <th>author_flair_richtext</th>\n",
       "      <th>author_flair_text</th>\n",
       "      <th>author_flair_type</th>\n",
       "      <th>author_fullname</th>\n",
       "      <th>author_patreon_flair</th>\n",
       "      <th>author_premium</th>\n",
       "      <th>...</th>\n",
       "      <th>author_flair_background_color</th>\n",
       "      <th>author_flair_template_id</th>\n",
       "      <th>author_flair_text_color</th>\n",
       "      <th>edited</th>\n",
       "      <th>removed_by_category</th>\n",
       "      <th>author_cakeday</th>\n",
       "      <th>media_metadata</th>\n",
       "      <th>is_created_from_ads_ui</th>\n",
       "      <th>banned_by</th>\n",
       "      <th>author_is_blocked</th>\n",
       "    </tr>\n",
       "  </thead>\n",
       "  <tbody>\n",
       "    <tr>\n",
       "      <th>0</th>\n",
       "      <td>[]</td>\n",
       "      <td>False</td>\n",
       "      <td>CombativeMinds1776</td>\n",
       "      <td>NaN</td>\n",
       "      <td>[]</td>\n",
       "      <td>NaN</td>\n",
       "      <td>text</td>\n",
       "      <td>t2_7sfykn31</td>\n",
       "      <td>False</td>\n",
       "      <td>False</td>\n",
       "      <td>...</td>\n",
       "      <td>NaN</td>\n",
       "      <td>NaN</td>\n",
       "      <td>NaN</td>\n",
       "      <td>NaN</td>\n",
       "      <td>NaN</td>\n",
       "      <td>NaN</td>\n",
       "      <td>NaN</td>\n",
       "      <td>NaN</td>\n",
       "      <td>NaN</td>\n",
       "      <td>NaN</td>\n",
       "    </tr>\n",
       "    <tr>\n",
       "      <th>1</th>\n",
       "      <td>[]</td>\n",
       "      <td>False</td>\n",
       "      <td>BlueChimp5</td>\n",
       "      <td>NaN</td>\n",
       "      <td>[]</td>\n",
       "      <td>NaN</td>\n",
       "      <td>text</td>\n",
       "      <td>t2_7agq20eh</td>\n",
       "      <td>False</td>\n",
       "      <td>False</td>\n",
       "      <td>...</td>\n",
       "      <td>NaN</td>\n",
       "      <td>NaN</td>\n",
       "      <td>NaN</td>\n",
       "      <td>NaN</td>\n",
       "      <td>NaN</td>\n",
       "      <td>NaN</td>\n",
       "      <td>NaN</td>\n",
       "      <td>NaN</td>\n",
       "      <td>NaN</td>\n",
       "      <td>NaN</td>\n",
       "    </tr>\n",
       "    <tr>\n",
       "      <th>2</th>\n",
       "      <td>[]</td>\n",
       "      <td>False</td>\n",
       "      <td>Snoo47858</td>\n",
       "      <td>NaN</td>\n",
       "      <td>[]</td>\n",
       "      <td>NaN</td>\n",
       "      <td>text</td>\n",
       "      <td>t2_74msqcii</td>\n",
       "      <td>False</td>\n",
       "      <td>False</td>\n",
       "      <td>...</td>\n",
       "      <td>NaN</td>\n",
       "      <td>NaN</td>\n",
       "      <td>NaN</td>\n",
       "      <td>NaN</td>\n",
       "      <td>NaN</td>\n",
       "      <td>NaN</td>\n",
       "      <td>NaN</td>\n",
       "      <td>NaN</td>\n",
       "      <td>NaN</td>\n",
       "      <td>NaN</td>\n",
       "    </tr>\n",
       "    <tr>\n",
       "      <th>3</th>\n",
       "      <td>[]</td>\n",
       "      <td>False</td>\n",
       "      <td>MorbidCocktail</td>\n",
       "      <td>NaN</td>\n",
       "      <td>[]</td>\n",
       "      <td>NaN</td>\n",
       "      <td>text</td>\n",
       "      <td>t2_10zfgb</td>\n",
       "      <td>False</td>\n",
       "      <td>False</td>\n",
       "      <td>...</td>\n",
       "      <td>NaN</td>\n",
       "      <td>NaN</td>\n",
       "      <td>NaN</td>\n",
       "      <td>NaN</td>\n",
       "      <td>NaN</td>\n",
       "      <td>NaN</td>\n",
       "      <td>NaN</td>\n",
       "      <td>NaN</td>\n",
       "      <td>NaN</td>\n",
       "      <td>NaN</td>\n",
       "    </tr>\n",
       "    <tr>\n",
       "      <th>4</th>\n",
       "      <td>[]</td>\n",
       "      <td>False</td>\n",
       "      <td>pingpongplaya69420</td>\n",
       "      <td>NaN</td>\n",
       "      <td>[{'e': 'text', 't': 'Minarchist'}]</td>\n",
       "      <td>Minarchist</td>\n",
       "      <td>richtext</td>\n",
       "      <td>t2_57112yea</td>\n",
       "      <td>False</td>\n",
       "      <td>False</td>\n",
       "      <td>...</td>\n",
       "      <td>#f3c817</td>\n",
       "      <td>25c6421c-1cf1-11e2-89d6-12313d051e91</td>\n",
       "      <td>dark</td>\n",
       "      <td>NaN</td>\n",
       "      <td>NaN</td>\n",
       "      <td>NaN</td>\n",
       "      <td>NaN</td>\n",
       "      <td>NaN</td>\n",
       "      <td>NaN</td>\n",
       "      <td>NaN</td>\n",
       "    </tr>\n",
       "  </tbody>\n",
       "</table>\n",
       "<p>5 rows × 79 columns</p>\n",
       "</div>"
      ],
      "text/plain": [
       "  all_awardings  allow_live_comments              author  \\\n",
       "0            []                False  CombativeMinds1776   \n",
       "1            []                False          BlueChimp5   \n",
       "2            []                False           Snoo47858   \n",
       "3            []                False      MorbidCocktail   \n",
       "4            []                False  pingpongplaya69420   \n",
       "\n",
       "   author_flair_css_class               author_flair_richtext  \\\n",
       "0                     NaN                                  []   \n",
       "1                     NaN                                  []   \n",
       "2                     NaN                                  []   \n",
       "3                     NaN                                  []   \n",
       "4                     NaN  [{'e': 'text', 't': 'Minarchist'}]   \n",
       "\n",
       "  author_flair_text author_flair_type author_fullname author_patreon_flair  \\\n",
       "0               NaN              text     t2_7sfykn31                False   \n",
       "1               NaN              text     t2_7agq20eh                False   \n",
       "2               NaN              text     t2_74msqcii                False   \n",
       "3               NaN              text       t2_10zfgb                False   \n",
       "4        Minarchist          richtext     t2_57112yea                False   \n",
       "\n",
       "  author_premium  ... author_flair_background_color  \\\n",
       "0          False  ...                           NaN   \n",
       "1          False  ...                           NaN   \n",
       "2          False  ...                           NaN   \n",
       "3          False  ...                           NaN   \n",
       "4          False  ...                       #f3c817   \n",
       "\n",
       "               author_flair_template_id  author_flair_text_color  edited  \\\n",
       "0                                   NaN                      NaN     NaN   \n",
       "1                                   NaN                      NaN     NaN   \n",
       "2                                   NaN                      NaN     NaN   \n",
       "3                                   NaN                      NaN     NaN   \n",
       "4  25c6421c-1cf1-11e2-89d6-12313d051e91                     dark     NaN   \n",
       "\n",
       "  removed_by_category author_cakeday media_metadata is_created_from_ads_ui  \\\n",
       "0                 NaN            NaN            NaN                    NaN   \n",
       "1                 NaN            NaN            NaN                    NaN   \n",
       "2                 NaN            NaN            NaN                    NaN   \n",
       "3                 NaN            NaN            NaN                    NaN   \n",
       "4                 NaN            NaN            NaN                    NaN   \n",
       "\n",
       "   banned_by  author_is_blocked  \n",
       "0        NaN                NaN  \n",
       "1        NaN                NaN  \n",
       "2        NaN                NaN  \n",
       "3        NaN                NaN  \n",
       "4        NaN                NaN  \n",
       "\n",
       "[5 rows x 79 columns]"
      ]
     },
     "execution_count": 6,
     "metadata": {},
     "output_type": "execute_result"
    }
   ],
   "source": [
    "libertarian.drop('Unnamed: 0', axis = 1, inplace = True)\n",
    "\n",
    "libertarian.head()"
   ]
  },
  {
   "cell_type": "code",
   "execution_count": 7,
   "id": "2ff78ccb",
   "metadata": {},
   "outputs": [
    {
     "data": {
      "text/plain": [
       "((1000, 79), (988, 78), (1988, 82))"
      ]
     },
     "execution_count": 7,
     "metadata": {},
     "output_type": "execute_result"
    }
   ],
   "source": [
    "libertarian.shape, neolib.shape, df.shape"
   ]
  },
  {
   "cell_type": "code",
   "execution_count": 8,
   "id": "30f76d76",
   "metadata": {},
   "outputs": [
    {
     "data": {
      "text/plain": [
       "['all_awardings',\n",
       " 'allow_live_comments',\n",
       " 'author',\n",
       " 'author_flair_css_class',\n",
       " 'author_flair_richtext',\n",
       " 'author_flair_template_id',\n",
       " 'author_flair_text',\n",
       " 'author_flair_text_color',\n",
       " 'author_flair_type',\n",
       " 'author_fullname',\n",
       " 'author_patreon_flair',\n",
       " 'author_premium',\n",
       " 'awarders',\n",
       " 'can_mod_post',\n",
       " 'contest_mode',\n",
       " 'created_utc',\n",
       " 'domain',\n",
       " 'full_link',\n",
       " 'gildings',\n",
       " 'id',\n",
       " 'is_crosspostable',\n",
       " 'is_meta',\n",
       " 'is_original_content',\n",
       " 'is_reddit_media_domain',\n",
       " 'is_robot_indexable',\n",
       " 'is_self',\n",
       " 'is_video',\n",
       " 'link_flair_background_color',\n",
       " 'link_flair_richtext',\n",
       " 'link_flair_template_id',\n",
       " 'link_flair_text',\n",
       " 'link_flair_text_color',\n",
       " 'link_flair_type',\n",
       " 'locked',\n",
       " 'media_only',\n",
       " 'no_follow',\n",
       " 'num_comments',\n",
       " 'num_crossposts',\n",
       " 'over_18',\n",
       " 'parent_whitelist_status',\n",
       " 'permalink',\n",
       " 'pinned',\n",
       " 'post_hint',\n",
       " 'preview',\n",
       " 'pwls',\n",
       " 'retrieved_on',\n",
       " 'score',\n",
       " 'selftext',\n",
       " 'send_replies',\n",
       " 'spoiler',\n",
       " 'stickied',\n",
       " 'subreddit',\n",
       " 'subreddit_id',\n",
       " 'subreddit_subscribers',\n",
       " 'subreddit_type',\n",
       " 'thumbnail',\n",
       " 'thumbnail_height',\n",
       " 'thumbnail_width',\n",
       " 'title',\n",
       " 'total_awards_received',\n",
       " 'treatment_tags',\n",
       " 'upvote_ratio',\n",
       " 'url',\n",
       " 'url_overridden_by_dest',\n",
       " 'whitelist_status',\n",
       " 'wls',\n",
       " 'author_flair_background_color',\n",
       " 'media_metadata',\n",
       " 'media',\n",
       " 'media_embed',\n",
       " 'secure_media',\n",
       " 'secure_media_embed',\n",
       " 'removed_by_category',\n",
       " 'crosspost_parent',\n",
       " 'crosspost_parent_list',\n",
       " 'author_cakeday',\n",
       " 'edited',\n",
       " 'gilded']"
      ]
     },
     "execution_count": 8,
     "metadata": {},
     "output_type": "execute_result"
    }
   ],
   "source": [
    "neolib.columns.values.tolist()"
   ]
  },
  {
   "cell_type": "code",
   "execution_count": 9,
   "id": "6cf76a3e",
   "metadata": {},
   "outputs": [
    {
     "data": {
      "text/html": [
       "<div>\n",
       "<style scoped>\n",
       "    .dataframe tbody tr th:only-of-type {\n",
       "        vertical-align: middle;\n",
       "    }\n",
       "\n",
       "    .dataframe tbody tr th {\n",
       "        vertical-align: top;\n",
       "    }\n",
       "\n",
       "    .dataframe thead th {\n",
       "        text-align: right;\n",
       "    }\n",
       "</style>\n",
       "<table border=\"1\" class=\"dataframe\">\n",
       "  <thead>\n",
       "    <tr style=\"text-align: right;\">\n",
       "      <th></th>\n",
       "      <th>title</th>\n",
       "      <th>selftext</th>\n",
       "      <th>subreddit</th>\n",
       "      <th>created_utc</th>\n",
       "      <th>score</th>\n",
       "      <th>upvote_ratio</th>\n",
       "      <th>url</th>\n",
       "      <th>link_flair_text</th>\n",
       "    </tr>\n",
       "  </thead>\n",
       "  <tbody>\n",
       "    <tr>\n",
       "      <th>0</th>\n",
       "      <td>Biden Must Purge Military and Law Enforcement ...</td>\n",
       "      <td>NaN</td>\n",
       "      <td>neoliberal</td>\n",
       "      <td>1611108637</td>\n",
       "      <td>4</td>\n",
       "      <td>0.83</td>\n",
       "      <td>https://slate.com/news-and-politics/2021/01/bi...</td>\n",
       "      <td>Opinions (US)</td>\n",
       "    </tr>\n",
       "    <tr>\n",
       "      <th>1</th>\n",
       "      <td>Under Biden, it’s time for Democrats to let go...</td>\n",
       "      <td>NaN</td>\n",
       "      <td>neoliberal</td>\n",
       "      <td>1611116767</td>\n",
       "      <td>1</td>\n",
       "      <td>1.00</td>\n",
       "      <td>https://www.independent.co.uk/voices/biden-med...</td>\n",
       "      <td>Opinions (US)</td>\n",
       "    </tr>\n",
       "    <tr>\n",
       "      <th>2</th>\n",
       "      <td>Yeah, I am officially Neoliberal now.</td>\n",
       "      <td>Don't know weather to put this down as Discuss...</td>\n",
       "      <td>neoliberal</td>\n",
       "      <td>1611118940</td>\n",
       "      <td>1</td>\n",
       "      <td>1.00</td>\n",
       "      <td>https://www.reddit.com/r/neoliberal/comments/l...</td>\n",
       "      <td>Discussion</td>\n",
       "    </tr>\n",
       "    <tr>\n",
       "      <th>3</th>\n",
       "      <td>Joe Biden at noon today</td>\n",
       "      <td>NaN</td>\n",
       "      <td>neoliberal</td>\n",
       "      <td>1611130630</td>\n",
       "      <td>1</td>\n",
       "      <td>1.00</td>\n",
       "      <td>https://i.redd.it/65sy6vxu4gc61.jpg</td>\n",
       "      <td>Meme</td>\n",
       "    </tr>\n",
       "    <tr>\n",
       "      <th>4</th>\n",
       "      <td>Canada's ambassador to U.S. shares most Biden ...</td>\n",
       "      <td>NaN</td>\n",
       "      <td>neoliberal</td>\n",
       "      <td>1611134352</td>\n",
       "      <td>1</td>\n",
       "      <td>1.00</td>\n",
       "      <td>https://www.reuters.com/article/us-canada-usa/...</td>\n",
       "      <td>News (US)</td>\n",
       "    </tr>\n",
       "    <tr>\n",
       "      <th>...</th>\n",
       "      <td>...</td>\n",
       "      <td>...</td>\n",
       "      <td>...</td>\n",
       "      <td>...</td>\n",
       "      <td>...</td>\n",
       "      <td>...</td>\n",
       "      <td>...</td>\n",
       "      <td>...</td>\n",
       "    </tr>\n",
       "    <tr>\n",
       "      <th>983</th>\n",
       "      <td>What changes has Biden made to our immigration...</td>\n",
       "      <td>When I talk to my friends who are a lot farthe...</td>\n",
       "      <td>neoliberal</td>\n",
       "      <td>1621446378</td>\n",
       "      <td>1</td>\n",
       "      <td>1.00</td>\n",
       "      <td>https://www.reddit.com/r/neoliberal/comments/n...</td>\n",
       "      <td>Discussion</td>\n",
       "    </tr>\n",
       "    <tr>\n",
       "      <th>984</th>\n",
       "      <td>\"Steel trade groups, union call on Biden to le...</td>\n",
       "      <td>NaN</td>\n",
       "      <td>neoliberal</td>\n",
       "      <td>1621464903</td>\n",
       "      <td>1</td>\n",
       "      <td>1.00</td>\n",
       "      <td>https://thehill.com/policy/finance/554351-stee...</td>\n",
       "      <td>News (US)</td>\n",
       "    </tr>\n",
       "    <tr>\n",
       "      <th>985</th>\n",
       "      <td>Nord Stream 2: Biden waives US sanctions on Ru...</td>\n",
       "      <td>NaN</td>\n",
       "      <td>neoliberal</td>\n",
       "      <td>1621471453</td>\n",
       "      <td>1</td>\n",
       "      <td>1.00</td>\n",
       "      <td>https://www.bbc.com/news/world-us-canada-57180674</td>\n",
       "      <td>News (non-US)</td>\n",
       "    </tr>\n",
       "    <tr>\n",
       "      <th>986</th>\n",
       "      <td>Israeli Prime Minister Benjamin Netanyahu reje...</td>\n",
       "      <td>NaN</td>\n",
       "      <td>neoliberal</td>\n",
       "      <td>1621471503</td>\n",
       "      <td>1</td>\n",
       "      <td>1.00</td>\n",
       "      <td>https://www.chicagotribune.com/nation-world/ct...</td>\n",
       "      <td>News (US)</td>\n",
       "    </tr>\n",
       "    <tr>\n",
       "      <th>987</th>\n",
       "      <td>Biden calls off key sanctions on Russian pipel...</td>\n",
       "      <td>NaN</td>\n",
       "      <td>neoliberal</td>\n",
       "      <td>1621471766</td>\n",
       "      <td>1</td>\n",
       "      <td>1.00</td>\n",
       "      <td>https://www.washingtonpost.com/national-securi...</td>\n",
       "      <td>News (US)</td>\n",
       "    </tr>\n",
       "  </tbody>\n",
       "</table>\n",
       "<p>988 rows × 8 columns</p>\n",
       "</div>"
      ],
      "text/plain": [
       "                                                 title  \\\n",
       "0    Biden Must Purge Military and Law Enforcement ...   \n",
       "1    Under Biden, it’s time for Democrats to let go...   \n",
       "2                Yeah, I am officially Neoliberal now.   \n",
       "3                              Joe Biden at noon today   \n",
       "4    Canada's ambassador to U.S. shares most Biden ...   \n",
       "..                                                 ...   \n",
       "983  What changes has Biden made to our immigration...   \n",
       "984  \"Steel trade groups, union call on Biden to le...   \n",
       "985  Nord Stream 2: Biden waives US sanctions on Ru...   \n",
       "986  Israeli Prime Minister Benjamin Netanyahu reje...   \n",
       "987  Biden calls off key sanctions on Russian pipel...   \n",
       "\n",
       "                                              selftext   subreddit  \\\n",
       "0                                                  NaN  neoliberal   \n",
       "1                                                  NaN  neoliberal   \n",
       "2    Don't know weather to put this down as Discuss...  neoliberal   \n",
       "3                                                  NaN  neoliberal   \n",
       "4                                                  NaN  neoliberal   \n",
       "..                                                 ...         ...   \n",
       "983  When I talk to my friends who are a lot farthe...  neoliberal   \n",
       "984                                                NaN  neoliberal   \n",
       "985                                                NaN  neoliberal   \n",
       "986                                                NaN  neoliberal   \n",
       "987                                                NaN  neoliberal   \n",
       "\n",
       "     created_utc  score  upvote_ratio  \\\n",
       "0     1611108637      4          0.83   \n",
       "1     1611116767      1          1.00   \n",
       "2     1611118940      1          1.00   \n",
       "3     1611130630      1          1.00   \n",
       "4     1611134352      1          1.00   \n",
       "..           ...    ...           ...   \n",
       "983   1621446378      1          1.00   \n",
       "984   1621464903      1          1.00   \n",
       "985   1621471453      1          1.00   \n",
       "986   1621471503      1          1.00   \n",
       "987   1621471766      1          1.00   \n",
       "\n",
       "                                                   url link_flair_text  \n",
       "0    https://slate.com/news-and-politics/2021/01/bi...   Opinions (US)  \n",
       "1    https://www.independent.co.uk/voices/biden-med...   Opinions (US)  \n",
       "2    https://www.reddit.com/r/neoliberal/comments/l...      Discussion  \n",
       "3                  https://i.redd.it/65sy6vxu4gc61.jpg            Meme  \n",
       "4    https://www.reuters.com/article/us-canada-usa/...       News (US)  \n",
       "..                                                 ...             ...  \n",
       "983  https://www.reddit.com/r/neoliberal/comments/n...      Discussion  \n",
       "984  https://thehill.com/policy/finance/554351-stee...       News (US)  \n",
       "985  https://www.bbc.com/news/world-us-canada-57180674   News (non-US)  \n",
       "986  https://www.chicagotribune.com/nation-world/ct...       News (US)  \n",
       "987  https://www.washingtonpost.com/national-securi...       News (US)  \n",
       "\n",
       "[988 rows x 8 columns]"
      ]
     },
     "execution_count": 9,
     "metadata": {},
     "output_type": "execute_result"
    }
   ],
   "source": [
    "neolib[['title', 'selftext', 'subreddit', 'created_utc', 'score', 'upvote_ratio', 'url',\n",
    "      'link_flair_text']]"
   ]
  },
  {
   "cell_type": "code",
   "execution_count": 10,
   "id": "a91a76be",
   "metadata": {},
   "outputs": [
    {
     "data": {
      "text/html": [
       "<div>\n",
       "<style scoped>\n",
       "    .dataframe tbody tr th:only-of-type {\n",
       "        vertical-align: middle;\n",
       "    }\n",
       "\n",
       "    .dataframe tbody tr th {\n",
       "        vertical-align: top;\n",
       "    }\n",
       "\n",
       "    .dataframe thead th {\n",
       "        text-align: right;\n",
       "    }\n",
       "</style>\n",
       "<table border=\"1\" class=\"dataframe\">\n",
       "  <thead>\n",
       "    <tr style=\"text-align: right;\">\n",
       "      <th></th>\n",
       "      <th>title</th>\n",
       "      <th>selftext</th>\n",
       "      <th>subreddit</th>\n",
       "      <th>url</th>\n",
       "    </tr>\n",
       "  </thead>\n",
       "  <tbody>\n",
       "    <tr>\n",
       "      <th>0</th>\n",
       "      <td>Biden Must Purge Military and Law Enforcement ...</td>\n",
       "      <td>NaN</td>\n",
       "      <td>neoliberal</td>\n",
       "      <td>https://slate.com/news-and-politics/2021/01/bi...</td>\n",
       "    </tr>\n",
       "    <tr>\n",
       "      <th>1</th>\n",
       "      <td>Under Biden, it’s time for Democrats to let go...</td>\n",
       "      <td>NaN</td>\n",
       "      <td>neoliberal</td>\n",
       "      <td>https://www.independent.co.uk/voices/biden-med...</td>\n",
       "    </tr>\n",
       "    <tr>\n",
       "      <th>2</th>\n",
       "      <td>Yeah, I am officially Neoliberal now.</td>\n",
       "      <td>Don't know weather to put this down as Discuss...</td>\n",
       "      <td>neoliberal</td>\n",
       "      <td>https://www.reddit.com/r/neoliberal/comments/l...</td>\n",
       "    </tr>\n",
       "    <tr>\n",
       "      <th>3</th>\n",
       "      <td>Joe Biden at noon today</td>\n",
       "      <td>NaN</td>\n",
       "      <td>neoliberal</td>\n",
       "      <td>https://i.redd.it/65sy6vxu4gc61.jpg</td>\n",
       "    </tr>\n",
       "    <tr>\n",
       "      <th>4</th>\n",
       "      <td>Canada's ambassador to U.S. shares most Biden ...</td>\n",
       "      <td>NaN</td>\n",
       "      <td>neoliberal</td>\n",
       "      <td>https://www.reuters.com/article/us-canada-usa/...</td>\n",
       "    </tr>\n",
       "    <tr>\n",
       "      <th>...</th>\n",
       "      <td>...</td>\n",
       "      <td>...</td>\n",
       "      <td>...</td>\n",
       "      <td>...</td>\n",
       "    </tr>\n",
       "    <tr>\n",
       "      <th>1983</th>\n",
       "      <td>Biden admin expected to recommend covid booste...</td>\n",
       "      <td>NaN</td>\n",
       "      <td>Libertarian</td>\n",
       "      <td>https://www.cnn.com/2021/08/16/politics/covid-...</td>\n",
       "    </tr>\n",
       "    <tr>\n",
       "      <th>1984</th>\n",
       "      <td>Biden administration to require a COVID-19 boo...</td>\n",
       "      <td>NaN</td>\n",
       "      <td>Libertarian</td>\n",
       "      <td>https://www.bsocialplus.com/post/biden-adminis...</td>\n",
       "    </tr>\n",
       "    <tr>\n",
       "      <th>1985</th>\n",
       "      <td>So the “America First” party is mad that Biden...</td>\n",
       "      <td>I know a lot of you republicans are in here be...</td>\n",
       "      <td>Libertarian</td>\n",
       "      <td>https://www.reddit.com/r/Libertarian/comments/...</td>\n",
       "    </tr>\n",
       "    <tr>\n",
       "      <th>1986</th>\n",
       "      <td>Joe Biden pulled out of Aghanistan, what now?</td>\n",
       "      <td>[removed]</td>\n",
       "      <td>Libertarian</td>\n",
       "      <td>https://www.reddit.com/r/Libertarian/comments/...</td>\n",
       "    </tr>\n",
       "    <tr>\n",
       "      <th>1987</th>\n",
       "      <td>Biden defends decision to end US war in Afghan...</td>\n",
       "      <td>NaN</td>\n",
       "      <td>Libertarian</td>\n",
       "      <td>https://www.youtube.com/watch?v=Dr19B9Kfbjo</td>\n",
       "    </tr>\n",
       "  </tbody>\n",
       "</table>\n",
       "<p>1988 rows × 4 columns</p>\n",
       "</div>"
      ],
      "text/plain": [
       "                                                  title  \\\n",
       "0     Biden Must Purge Military and Law Enforcement ...   \n",
       "1     Under Biden, it’s time for Democrats to let go...   \n",
       "2                 Yeah, I am officially Neoliberal now.   \n",
       "3                               Joe Biden at noon today   \n",
       "4     Canada's ambassador to U.S. shares most Biden ...   \n",
       "...                                                 ...   \n",
       "1983  Biden admin expected to recommend covid booste...   \n",
       "1984  Biden administration to require a COVID-19 boo...   \n",
       "1985  So the “America First” party is mad that Biden...   \n",
       "1986      Joe Biden pulled out of Aghanistan, what now?   \n",
       "1987  Biden defends decision to end US war in Afghan...   \n",
       "\n",
       "                                               selftext    subreddit  \\\n",
       "0                                                   NaN   neoliberal   \n",
       "1                                                   NaN   neoliberal   \n",
       "2     Don't know weather to put this down as Discuss...   neoliberal   \n",
       "3                                                   NaN   neoliberal   \n",
       "4                                                   NaN   neoliberal   \n",
       "...                                                 ...          ...   \n",
       "1983                                                NaN  Libertarian   \n",
       "1984                                                NaN  Libertarian   \n",
       "1985  I know a lot of you republicans are in here be...  Libertarian   \n",
       "1986                                          [removed]  Libertarian   \n",
       "1987                                                NaN  Libertarian   \n",
       "\n",
       "                                                    url  \n",
       "0     https://slate.com/news-and-politics/2021/01/bi...  \n",
       "1     https://www.independent.co.uk/voices/biden-med...  \n",
       "2     https://www.reddit.com/r/neoliberal/comments/l...  \n",
       "3                   https://i.redd.it/65sy6vxu4gc61.jpg  \n",
       "4     https://www.reuters.com/article/us-canada-usa/...  \n",
       "...                                                 ...  \n",
       "1983  https://www.cnn.com/2021/08/16/politics/covid-...  \n",
       "1984  https://www.bsocialplus.com/post/biden-adminis...  \n",
       "1985  https://www.reddit.com/r/Libertarian/comments/...  \n",
       "1986  https://www.reddit.com/r/Libertarian/comments/...  \n",
       "1987        https://www.youtube.com/watch?v=Dr19B9Kfbjo  \n",
       "\n",
       "[1988 rows x 4 columns]"
      ]
     },
     "execution_count": 10,
     "metadata": {},
     "output_type": "execute_result"
    }
   ],
   "source": [
    "df_initial = df[['title', 'selftext', 'subreddit', 'url']]\n",
    "df_initial"
   ]
  },
  {
   "cell_type": "code",
   "execution_count": 11,
   "id": "e92a2689",
   "metadata": {},
   "outputs": [
    {
     "name": "stderr",
     "output_type": "stream",
     "text": [
      "<ipython-input-11-aa299f87cefc>:1: SettingWithCopyWarning: \n",
      "A value is trying to be set on a copy of a slice from a DataFrame.\n",
      "Try using .loc[row_indexer,col_indexer] = value instead\n",
      "\n",
      "See the caveats in the documentation: https://pandas.pydata.org/pandas-docs/stable/user_guide/indexing.html#returning-a-view-versus-a-copy\n",
      "  df_initial['subreddit'] = df_initial['subreddit'].replace({'neoliberal': 1, 'Libertarian': 0})\n"
     ]
    }
   ],
   "source": [
    "df_initial['subreddit'] = df_initial['subreddit'].replace({'neoliberal': 1, 'Libertarian': 0})"
   ]
  },
  {
   "cell_type": "code",
   "execution_count": 12,
   "id": "7e66fbdb",
   "metadata": {},
   "outputs": [
    {
     "data": {
      "text/html": [
       "<div>\n",
       "<style scoped>\n",
       "    .dataframe tbody tr th:only-of-type {\n",
       "        vertical-align: middle;\n",
       "    }\n",
       "\n",
       "    .dataframe tbody tr th {\n",
       "        vertical-align: top;\n",
       "    }\n",
       "\n",
       "    .dataframe thead th {\n",
       "        text-align: right;\n",
       "    }\n",
       "</style>\n",
       "<table border=\"1\" class=\"dataframe\">\n",
       "  <thead>\n",
       "    <tr style=\"text-align: right;\">\n",
       "      <th></th>\n",
       "      <th>title</th>\n",
       "      <th>selftext</th>\n",
       "      <th>subreddit</th>\n",
       "      <th>url</th>\n",
       "    </tr>\n",
       "  </thead>\n",
       "  <tbody>\n",
       "    <tr>\n",
       "      <th>0</th>\n",
       "      <td>Biden Must Purge Military and Law Enforcement ...</td>\n",
       "      <td>NaN</td>\n",
       "      <td>1</td>\n",
       "      <td>https://slate.com/news-and-politics/2021/01/bi...</td>\n",
       "    </tr>\n",
       "    <tr>\n",
       "      <th>1</th>\n",
       "      <td>Under Biden, it’s time for Democrats to let go...</td>\n",
       "      <td>NaN</td>\n",
       "      <td>1</td>\n",
       "      <td>https://www.independent.co.uk/voices/biden-med...</td>\n",
       "    </tr>\n",
       "    <tr>\n",
       "      <th>2</th>\n",
       "      <td>Yeah, I am officially Neoliberal now.</td>\n",
       "      <td>Don't know weather to put this down as Discuss...</td>\n",
       "      <td>1</td>\n",
       "      <td>https://www.reddit.com/r/neoliberal/comments/l...</td>\n",
       "    </tr>\n",
       "    <tr>\n",
       "      <th>3</th>\n",
       "      <td>Joe Biden at noon today</td>\n",
       "      <td>NaN</td>\n",
       "      <td>1</td>\n",
       "      <td>https://i.redd.it/65sy6vxu4gc61.jpg</td>\n",
       "    </tr>\n",
       "    <tr>\n",
       "      <th>4</th>\n",
       "      <td>Canada's ambassador to U.S. shares most Biden ...</td>\n",
       "      <td>NaN</td>\n",
       "      <td>1</td>\n",
       "      <td>https://www.reuters.com/article/us-canada-usa/...</td>\n",
       "    </tr>\n",
       "    <tr>\n",
       "      <th>...</th>\n",
       "      <td>...</td>\n",
       "      <td>...</td>\n",
       "      <td>...</td>\n",
       "      <td>...</td>\n",
       "    </tr>\n",
       "    <tr>\n",
       "      <th>1983</th>\n",
       "      <td>Biden admin expected to recommend covid booste...</td>\n",
       "      <td>NaN</td>\n",
       "      <td>0</td>\n",
       "      <td>https://www.cnn.com/2021/08/16/politics/covid-...</td>\n",
       "    </tr>\n",
       "    <tr>\n",
       "      <th>1984</th>\n",
       "      <td>Biden administration to require a COVID-19 boo...</td>\n",
       "      <td>NaN</td>\n",
       "      <td>0</td>\n",
       "      <td>https://www.bsocialplus.com/post/biden-adminis...</td>\n",
       "    </tr>\n",
       "    <tr>\n",
       "      <th>1985</th>\n",
       "      <td>So the “America First” party is mad that Biden...</td>\n",
       "      <td>I know a lot of you republicans are in here be...</td>\n",
       "      <td>0</td>\n",
       "      <td>https://www.reddit.com/r/Libertarian/comments/...</td>\n",
       "    </tr>\n",
       "    <tr>\n",
       "      <th>1986</th>\n",
       "      <td>Joe Biden pulled out of Aghanistan, what now?</td>\n",
       "      <td>[removed]</td>\n",
       "      <td>0</td>\n",
       "      <td>https://www.reddit.com/r/Libertarian/comments/...</td>\n",
       "    </tr>\n",
       "    <tr>\n",
       "      <th>1987</th>\n",
       "      <td>Biden defends decision to end US war in Afghan...</td>\n",
       "      <td>NaN</td>\n",
       "      <td>0</td>\n",
       "      <td>https://www.youtube.com/watch?v=Dr19B9Kfbjo</td>\n",
       "    </tr>\n",
       "  </tbody>\n",
       "</table>\n",
       "<p>1988 rows × 4 columns</p>\n",
       "</div>"
      ],
      "text/plain": [
       "                                                  title  \\\n",
       "0     Biden Must Purge Military and Law Enforcement ...   \n",
       "1     Under Biden, it’s time for Democrats to let go...   \n",
       "2                 Yeah, I am officially Neoliberal now.   \n",
       "3                               Joe Biden at noon today   \n",
       "4     Canada's ambassador to U.S. shares most Biden ...   \n",
       "...                                                 ...   \n",
       "1983  Biden admin expected to recommend covid booste...   \n",
       "1984  Biden administration to require a COVID-19 boo...   \n",
       "1985  So the “America First” party is mad that Biden...   \n",
       "1986      Joe Biden pulled out of Aghanistan, what now?   \n",
       "1987  Biden defends decision to end US war in Afghan...   \n",
       "\n",
       "                                               selftext  subreddit  \\\n",
       "0                                                   NaN          1   \n",
       "1                                                   NaN          1   \n",
       "2     Don't know weather to put this down as Discuss...          1   \n",
       "3                                                   NaN          1   \n",
       "4                                                   NaN          1   \n",
       "...                                                 ...        ...   \n",
       "1983                                                NaN          0   \n",
       "1984                                                NaN          0   \n",
       "1985  I know a lot of you republicans are in here be...          0   \n",
       "1986                                          [removed]          0   \n",
       "1987                                                NaN          0   \n",
       "\n",
       "                                                    url  \n",
       "0     https://slate.com/news-and-politics/2021/01/bi...  \n",
       "1     https://www.independent.co.uk/voices/biden-med...  \n",
       "2     https://www.reddit.com/r/neoliberal/comments/l...  \n",
       "3                   https://i.redd.it/65sy6vxu4gc61.jpg  \n",
       "4     https://www.reuters.com/article/us-canada-usa/...  \n",
       "...                                                 ...  \n",
       "1983  https://www.cnn.com/2021/08/16/politics/covid-...  \n",
       "1984  https://www.bsocialplus.com/post/biden-adminis...  \n",
       "1985  https://www.reddit.com/r/Libertarian/comments/...  \n",
       "1986  https://www.reddit.com/r/Libertarian/comments/...  \n",
       "1987        https://www.youtube.com/watch?v=Dr19B9Kfbjo  \n",
       "\n",
       "[1988 rows x 4 columns]"
      ]
     },
     "execution_count": 12,
     "metadata": {},
     "output_type": "execute_result"
    }
   ],
   "source": [
    "df_initial"
   ]
  },
  {
   "cell_type": "code",
   "execution_count": 13,
   "id": "69ce64e8",
   "metadata": {},
   "outputs": [
    {
     "data": {
      "text/plain": [
       "0    0.503018\n",
       "1    0.496982\n",
       "Name: subreddit, dtype: float64"
      ]
     },
     "execution_count": 13,
     "metadata": {},
     "output_type": "execute_result"
    }
   ],
   "source": [
    "df_initial['subreddit'].value_counts(normalize=True)"
   ]
  },
  {
   "cell_type": "code",
   "execution_count": 14,
   "id": "4cbdd2f9",
   "metadata": {},
   "outputs": [],
   "source": [
    "neolib_initial = df_initial.loc[df_initial['subreddit'] == 1]\n",
    "libertarian_initial = df_initial.loc[df_initial['subreddit'] == 0]"
   ]
  },
  {
   "cell_type": "code",
   "execution_count": 15,
   "id": "39363e0c",
   "metadata": {},
   "outputs": [
    {
     "data": {
      "text/html": [
       "<div>\n",
       "<style scoped>\n",
       "    .dataframe tbody tr th:only-of-type {\n",
       "        vertical-align: middle;\n",
       "    }\n",
       "\n",
       "    .dataframe tbody tr th {\n",
       "        vertical-align: top;\n",
       "    }\n",
       "\n",
       "    .dataframe thead th {\n",
       "        text-align: right;\n",
       "    }\n",
       "</style>\n",
       "<table border=\"1\" class=\"dataframe\">\n",
       "  <thead>\n",
       "    <tr style=\"text-align: right;\">\n",
       "      <th></th>\n",
       "      <th>title</th>\n",
       "      <th>selftext</th>\n",
       "      <th>subreddit</th>\n",
       "      <th>url</th>\n",
       "    </tr>\n",
       "  </thead>\n",
       "  <tbody>\n",
       "    <tr>\n",
       "      <th>0</th>\n",
       "      <td>Biden Must Purge Military and Law Enforcement ...</td>\n",
       "      <td>NaN</td>\n",
       "      <td>1</td>\n",
       "      <td>https://slate.com/news-and-politics/2021/01/bi...</td>\n",
       "    </tr>\n",
       "    <tr>\n",
       "      <th>1</th>\n",
       "      <td>Under Biden, it’s time for Democrats to let go...</td>\n",
       "      <td>NaN</td>\n",
       "      <td>1</td>\n",
       "      <td>https://www.independent.co.uk/voices/biden-med...</td>\n",
       "    </tr>\n",
       "    <tr>\n",
       "      <th>2</th>\n",
       "      <td>Yeah, I am officially Neoliberal now.</td>\n",
       "      <td>Don't know weather to put this down as Discuss...</td>\n",
       "      <td>1</td>\n",
       "      <td>https://www.reddit.com/r/neoliberal/comments/l...</td>\n",
       "    </tr>\n",
       "    <tr>\n",
       "      <th>3</th>\n",
       "      <td>Joe Biden at noon today</td>\n",
       "      <td>NaN</td>\n",
       "      <td>1</td>\n",
       "      <td>https://i.redd.it/65sy6vxu4gc61.jpg</td>\n",
       "    </tr>\n",
       "    <tr>\n",
       "      <th>4</th>\n",
       "      <td>Canada's ambassador to U.S. shares most Biden ...</td>\n",
       "      <td>NaN</td>\n",
       "      <td>1</td>\n",
       "      <td>https://www.reuters.com/article/us-canada-usa/...</td>\n",
       "    </tr>\n",
       "  </tbody>\n",
       "</table>\n",
       "</div>"
      ],
      "text/plain": [
       "                                               title  \\\n",
       "0  Biden Must Purge Military and Law Enforcement ...   \n",
       "1  Under Biden, it’s time for Democrats to let go...   \n",
       "2              Yeah, I am officially Neoliberal now.   \n",
       "3                            Joe Biden at noon today   \n",
       "4  Canada's ambassador to U.S. shares most Biden ...   \n",
       "\n",
       "                                            selftext  subreddit  \\\n",
       "0                                                NaN          1   \n",
       "1                                                NaN          1   \n",
       "2  Don't know weather to put this down as Discuss...          1   \n",
       "3                                                NaN          1   \n",
       "4                                                NaN          1   \n",
       "\n",
       "                                                 url  \n",
       "0  https://slate.com/news-and-politics/2021/01/bi...  \n",
       "1  https://www.independent.co.uk/voices/biden-med...  \n",
       "2  https://www.reddit.com/r/neoliberal/comments/l...  \n",
       "3                https://i.redd.it/65sy6vxu4gc61.jpg  \n",
       "4  https://www.reuters.com/article/us-canada-usa/...  "
      ]
     },
     "execution_count": 15,
     "metadata": {},
     "output_type": "execute_result"
    }
   ],
   "source": [
    "neolib_initial.head()"
   ]
  },
  {
   "cell_type": "code",
   "execution_count": 16,
   "id": "21d8db79",
   "metadata": {},
   "outputs": [
    {
     "data": {
      "text/html": [
       "<div>\n",
       "<style scoped>\n",
       "    .dataframe tbody tr th:only-of-type {\n",
       "        vertical-align: middle;\n",
       "    }\n",
       "\n",
       "    .dataframe tbody tr th {\n",
       "        vertical-align: top;\n",
       "    }\n",
       "\n",
       "    .dataframe thead th {\n",
       "        text-align: right;\n",
       "    }\n",
       "</style>\n",
       "<table border=\"1\" class=\"dataframe\">\n",
       "  <thead>\n",
       "    <tr style=\"text-align: right;\">\n",
       "      <th></th>\n",
       "      <th>title</th>\n",
       "      <th>selftext</th>\n",
       "      <th>subreddit</th>\n",
       "      <th>url</th>\n",
       "    </tr>\n",
       "  </thead>\n",
       "  <tbody>\n",
       "    <tr>\n",
       "      <th>988</th>\n",
       "      <td>Biden selects transgender doctor Rachel Levine...</td>\n",
       "      <td>NaN</td>\n",
       "      <td>0</td>\n",
       "      <td>https://www.washingtonpost.com/health/2021/01/...</td>\n",
       "    </tr>\n",
       "    <tr>\n",
       "      <th>989</th>\n",
       "      <td>“Biden campaign calls China's treatment of Uig...</td>\n",
       "      <td>NaN</td>\n",
       "      <td>0</td>\n",
       "      <td>https://www.independent.co.uk/news/world/ameri...</td>\n",
       "    </tr>\n",
       "    <tr>\n",
       "      <th>990</th>\n",
       "      <td>Hey, r/politics nutjobs who attribute covid de...</td>\n",
       "      <td>After Biden takes office, is he responsible fo...</td>\n",
       "      <td>0</td>\n",
       "      <td>https://www.reddit.com/r/Libertarian/comments/...</td>\n",
       "    </tr>\n",
       "    <tr>\n",
       "      <th>991</th>\n",
       "      <td>Biden Harris’ Inauguration &amp;amp; America's Obs...</td>\n",
       "      <td>NaN</td>\n",
       "      <td>0</td>\n",
       "      <td>https://youtu.be/Hm0aoWKnw8M</td>\n",
       "    </tr>\n",
       "    <tr>\n",
       "      <th>992</th>\n",
       "      <td>Dear shills of r/Libertarian</td>\n",
       "      <td>Biden will be President. Your “lesser evil” wo...</td>\n",
       "      <td>0</td>\n",
       "      <td>https://www.reddit.com/r/Libertarian/comments/...</td>\n",
       "    </tr>\n",
       "  </tbody>\n",
       "</table>\n",
       "</div>"
      ],
      "text/plain": [
       "                                                 title  \\\n",
       "988  Biden selects transgender doctor Rachel Levine...   \n",
       "989  “Biden campaign calls China's treatment of Uig...   \n",
       "990  Hey, r/politics nutjobs who attribute covid de...   \n",
       "991  Biden Harris’ Inauguration &amp; America's Obs...   \n",
       "992                       Dear shills of r/Libertarian   \n",
       "\n",
       "                                              selftext  subreddit  \\\n",
       "988                                                NaN          0   \n",
       "989                                                NaN          0   \n",
       "990  After Biden takes office, is he responsible fo...          0   \n",
       "991                                                NaN          0   \n",
       "992  Biden will be President. Your “lesser evil” wo...          0   \n",
       "\n",
       "                                                   url  \n",
       "988  https://www.washingtonpost.com/health/2021/01/...  \n",
       "989  https://www.independent.co.uk/news/world/ameri...  \n",
       "990  https://www.reddit.com/r/Libertarian/comments/...  \n",
       "991                       https://youtu.be/Hm0aoWKnw8M  \n",
       "992  https://www.reddit.com/r/Libertarian/comments/...  "
      ]
     },
     "execution_count": 16,
     "metadata": {},
     "output_type": "execute_result"
    }
   ],
   "source": [
    "libertarian_initial.head()"
   ]
  },
  {
   "cell_type": "code",
   "execution_count": 17,
   "id": "f09cbea0",
   "metadata": {},
   "outputs": [],
   "source": [
    "X = df_initial['title']\n",
    "cvec = CountVectorizer(stop_words='english')\n",
    "\n",
    "cvec.fit(X)\n",
    "X_transformed = cvec.transform(X)\n",
    "token_title = pd.DataFrame(data=X_transformed.todense(), columns = cvec.get_feature_names())"
   ]
  },
  {
   "cell_type": "code",
   "execution_count": 18,
   "id": "cb93b72b",
   "metadata": {},
   "outputs": [],
   "source": [
    "token_title['subreddit'] = df_initial['subreddit']"
   ]
  },
  {
   "cell_type": "code",
   "execution_count": 19,
   "id": "73d10724",
   "metadata": {},
   "outputs": [
    {
     "data": {
      "text/html": [
       "<div>\n",
       "<style scoped>\n",
       "    .dataframe tbody tr th:only-of-type {\n",
       "        vertical-align: middle;\n",
       "    }\n",
       "\n",
       "    .dataframe tbody tr th {\n",
       "        vertical-align: top;\n",
       "    }\n",
       "\n",
       "    .dataframe thead th {\n",
       "        text-align: right;\n",
       "    }\n",
       "</style>\n",
       "<table border=\"1\" class=\"dataframe\">\n",
       "  <thead>\n",
       "    <tr style=\"text-align: right;\">\n",
       "      <th></th>\n",
       "      <th>00</th>\n",
       "      <th>000</th>\n",
       "      <th>01</th>\n",
       "      <th>10</th>\n",
       "      <th>100</th>\n",
       "      <th>1000s</th>\n",
       "      <th>100k</th>\n",
       "      <th>100th</th>\n",
       "      <th>102</th>\n",
       "      <th>10k</th>\n",
       "      <th>...</th>\n",
       "      <th>youth</th>\n",
       "      <th>youtube</th>\n",
       "      <th>ytp</th>\n",
       "      <th>zdjecia</th>\n",
       "      <th>zelensky</th>\n",
       "      <th>zelenskyy</th>\n",
       "      <th>zero</th>\n",
       "      <th>zone</th>\n",
       "      <th>zones</th>\n",
       "      <th>zoning</th>\n",
       "    </tr>\n",
       "  </thead>\n",
       "  <tbody>\n",
       "    <tr>\n",
       "      <th>0</th>\n",
       "      <td>0</td>\n",
       "      <td>0</td>\n",
       "      <td>0</td>\n",
       "      <td>0</td>\n",
       "      <td>0</td>\n",
       "      <td>0</td>\n",
       "      <td>0</td>\n",
       "      <td>0</td>\n",
       "      <td>0</td>\n",
       "      <td>0</td>\n",
       "      <td>...</td>\n",
       "      <td>0</td>\n",
       "      <td>0</td>\n",
       "      <td>0</td>\n",
       "      <td>0</td>\n",
       "      <td>0</td>\n",
       "      <td>0</td>\n",
       "      <td>0</td>\n",
       "      <td>0</td>\n",
       "      <td>0</td>\n",
       "      <td>0</td>\n",
       "    </tr>\n",
       "    <tr>\n",
       "      <th>1</th>\n",
       "      <td>0</td>\n",
       "      <td>0</td>\n",
       "      <td>0</td>\n",
       "      <td>0</td>\n",
       "      <td>0</td>\n",
       "      <td>0</td>\n",
       "      <td>0</td>\n",
       "      <td>0</td>\n",
       "      <td>0</td>\n",
       "      <td>0</td>\n",
       "      <td>...</td>\n",
       "      <td>0</td>\n",
       "      <td>0</td>\n",
       "      <td>0</td>\n",
       "      <td>0</td>\n",
       "      <td>0</td>\n",
       "      <td>0</td>\n",
       "      <td>0</td>\n",
       "      <td>0</td>\n",
       "      <td>0</td>\n",
       "      <td>0</td>\n",
       "    </tr>\n",
       "    <tr>\n",
       "      <th>2</th>\n",
       "      <td>0</td>\n",
       "      <td>0</td>\n",
       "      <td>0</td>\n",
       "      <td>0</td>\n",
       "      <td>0</td>\n",
       "      <td>0</td>\n",
       "      <td>0</td>\n",
       "      <td>0</td>\n",
       "      <td>0</td>\n",
       "      <td>0</td>\n",
       "      <td>...</td>\n",
       "      <td>0</td>\n",
       "      <td>0</td>\n",
       "      <td>0</td>\n",
       "      <td>0</td>\n",
       "      <td>0</td>\n",
       "      <td>0</td>\n",
       "      <td>0</td>\n",
       "      <td>0</td>\n",
       "      <td>0</td>\n",
       "      <td>0</td>\n",
       "    </tr>\n",
       "    <tr>\n",
       "      <th>3</th>\n",
       "      <td>0</td>\n",
       "      <td>0</td>\n",
       "      <td>0</td>\n",
       "      <td>0</td>\n",
       "      <td>0</td>\n",
       "      <td>0</td>\n",
       "      <td>0</td>\n",
       "      <td>0</td>\n",
       "      <td>0</td>\n",
       "      <td>0</td>\n",
       "      <td>...</td>\n",
       "      <td>0</td>\n",
       "      <td>0</td>\n",
       "      <td>0</td>\n",
       "      <td>0</td>\n",
       "      <td>0</td>\n",
       "      <td>0</td>\n",
       "      <td>0</td>\n",
       "      <td>0</td>\n",
       "      <td>0</td>\n",
       "      <td>0</td>\n",
       "    </tr>\n",
       "    <tr>\n",
       "      <th>4</th>\n",
       "      <td>0</td>\n",
       "      <td>0</td>\n",
       "      <td>0</td>\n",
       "      <td>0</td>\n",
       "      <td>0</td>\n",
       "      <td>0</td>\n",
       "      <td>0</td>\n",
       "      <td>0</td>\n",
       "      <td>0</td>\n",
       "      <td>0</td>\n",
       "      <td>...</td>\n",
       "      <td>0</td>\n",
       "      <td>0</td>\n",
       "      <td>0</td>\n",
       "      <td>0</td>\n",
       "      <td>0</td>\n",
       "      <td>0</td>\n",
       "      <td>0</td>\n",
       "      <td>0</td>\n",
       "      <td>0</td>\n",
       "      <td>0</td>\n",
       "    </tr>\n",
       "    <tr>\n",
       "      <th>...</th>\n",
       "      <td>...</td>\n",
       "      <td>...</td>\n",
       "      <td>...</td>\n",
       "      <td>...</td>\n",
       "      <td>...</td>\n",
       "      <td>...</td>\n",
       "      <td>...</td>\n",
       "      <td>...</td>\n",
       "      <td>...</td>\n",
       "      <td>...</td>\n",
       "      <td>...</td>\n",
       "      <td>...</td>\n",
       "      <td>...</td>\n",
       "      <td>...</td>\n",
       "      <td>...</td>\n",
       "      <td>...</td>\n",
       "      <td>...</td>\n",
       "      <td>...</td>\n",
       "      <td>...</td>\n",
       "      <td>...</td>\n",
       "      <td>...</td>\n",
       "    </tr>\n",
       "    <tr>\n",
       "      <th>1983</th>\n",
       "      <td>0</td>\n",
       "      <td>0</td>\n",
       "      <td>0</td>\n",
       "      <td>0</td>\n",
       "      <td>0</td>\n",
       "      <td>0</td>\n",
       "      <td>0</td>\n",
       "      <td>0</td>\n",
       "      <td>0</td>\n",
       "      <td>0</td>\n",
       "      <td>...</td>\n",
       "      <td>0</td>\n",
       "      <td>0</td>\n",
       "      <td>0</td>\n",
       "      <td>0</td>\n",
       "      <td>0</td>\n",
       "      <td>0</td>\n",
       "      <td>0</td>\n",
       "      <td>0</td>\n",
       "      <td>0</td>\n",
       "      <td>0</td>\n",
       "    </tr>\n",
       "    <tr>\n",
       "      <th>1984</th>\n",
       "      <td>0</td>\n",
       "      <td>0</td>\n",
       "      <td>0</td>\n",
       "      <td>0</td>\n",
       "      <td>0</td>\n",
       "      <td>0</td>\n",
       "      <td>0</td>\n",
       "      <td>0</td>\n",
       "      <td>0</td>\n",
       "      <td>0</td>\n",
       "      <td>...</td>\n",
       "      <td>0</td>\n",
       "      <td>0</td>\n",
       "      <td>0</td>\n",
       "      <td>0</td>\n",
       "      <td>0</td>\n",
       "      <td>0</td>\n",
       "      <td>0</td>\n",
       "      <td>0</td>\n",
       "      <td>0</td>\n",
       "      <td>0</td>\n",
       "    </tr>\n",
       "    <tr>\n",
       "      <th>1985</th>\n",
       "      <td>0</td>\n",
       "      <td>0</td>\n",
       "      <td>0</td>\n",
       "      <td>0</td>\n",
       "      <td>0</td>\n",
       "      <td>0</td>\n",
       "      <td>0</td>\n",
       "      <td>0</td>\n",
       "      <td>0</td>\n",
       "      <td>0</td>\n",
       "      <td>...</td>\n",
       "      <td>0</td>\n",
       "      <td>0</td>\n",
       "      <td>0</td>\n",
       "      <td>0</td>\n",
       "      <td>0</td>\n",
       "      <td>0</td>\n",
       "      <td>0</td>\n",
       "      <td>0</td>\n",
       "      <td>0</td>\n",
       "      <td>0</td>\n",
       "    </tr>\n",
       "    <tr>\n",
       "      <th>1986</th>\n",
       "      <td>0</td>\n",
       "      <td>0</td>\n",
       "      <td>0</td>\n",
       "      <td>0</td>\n",
       "      <td>0</td>\n",
       "      <td>0</td>\n",
       "      <td>0</td>\n",
       "      <td>0</td>\n",
       "      <td>0</td>\n",
       "      <td>0</td>\n",
       "      <td>...</td>\n",
       "      <td>0</td>\n",
       "      <td>0</td>\n",
       "      <td>0</td>\n",
       "      <td>0</td>\n",
       "      <td>0</td>\n",
       "      <td>0</td>\n",
       "      <td>0</td>\n",
       "      <td>0</td>\n",
       "      <td>0</td>\n",
       "      <td>0</td>\n",
       "    </tr>\n",
       "    <tr>\n",
       "      <th>1987</th>\n",
       "      <td>0</td>\n",
       "      <td>0</td>\n",
       "      <td>0</td>\n",
       "      <td>0</td>\n",
       "      <td>0</td>\n",
       "      <td>0</td>\n",
       "      <td>0</td>\n",
       "      <td>0</td>\n",
       "      <td>0</td>\n",
       "      <td>0</td>\n",
       "      <td>...</td>\n",
       "      <td>0</td>\n",
       "      <td>0</td>\n",
       "      <td>0</td>\n",
       "      <td>0</td>\n",
       "      <td>0</td>\n",
       "      <td>0</td>\n",
       "      <td>0</td>\n",
       "      <td>0</td>\n",
       "      <td>0</td>\n",
       "      <td>0</td>\n",
       "    </tr>\n",
       "  </tbody>\n",
       "</table>\n",
       "<p>1988 rows × 5178 columns</p>\n",
       "</div>"
      ],
      "text/plain": [
       "      00  000  01  10  100  1000s  100k  100th  102  10k  ...  youth  youtube  \\\n",
       "0      0    0   0   0    0      0     0      0    0    0  ...      0        0   \n",
       "1      0    0   0   0    0      0     0      0    0    0  ...      0        0   \n",
       "2      0    0   0   0    0      0     0      0    0    0  ...      0        0   \n",
       "3      0    0   0   0    0      0     0      0    0    0  ...      0        0   \n",
       "4      0    0   0   0    0      0     0      0    0    0  ...      0        0   \n",
       "...   ..  ...  ..  ..  ...    ...   ...    ...  ...  ...  ...    ...      ...   \n",
       "1983   0    0   0   0    0      0     0      0    0    0  ...      0        0   \n",
       "1984   0    0   0   0    0      0     0      0    0    0  ...      0        0   \n",
       "1985   0    0   0   0    0      0     0      0    0    0  ...      0        0   \n",
       "1986   0    0   0   0    0      0     0      0    0    0  ...      0        0   \n",
       "1987   0    0   0   0    0      0     0      0    0    0  ...      0        0   \n",
       "\n",
       "      ytp  zdjecia  zelensky  zelenskyy  zero  zone  zones  zoning  \n",
       "0       0        0         0          0     0     0      0       0  \n",
       "1       0        0         0          0     0     0      0       0  \n",
       "2       0        0         0          0     0     0      0       0  \n",
       "3       0        0         0          0     0     0      0       0  \n",
       "4       0        0         0          0     0     0      0       0  \n",
       "...   ...      ...       ...        ...   ...   ...    ...     ...  \n",
       "1983    0        0         0          0     0     0      0       0  \n",
       "1984    0        0         0          0     0     0      0       0  \n",
       "1985    0        0         0          0     0     0      0       0  \n",
       "1986    0        0         0          0     0     0      0       0  \n",
       "1987    0        0         0          0     0     0      0       0  \n",
       "\n",
       "[1988 rows x 5178 columns]"
      ]
     },
     "execution_count": 19,
     "metadata": {},
     "output_type": "execute_result"
    }
   ],
   "source": [
    "token_title"
   ]
  },
  {
   "cell_type": "code",
   "execution_count": 20,
   "id": "6d1b03c1",
   "metadata": {},
   "outputs": [
    {
     "data": {
      "text/html": [
       "<div>\n",
       "<style scoped>\n",
       "    .dataframe tbody tr th:only-of-type {\n",
       "        vertical-align: middle;\n",
       "    }\n",
       "\n",
       "    .dataframe tbody tr th {\n",
       "        vertical-align: top;\n",
       "    }\n",
       "\n",
       "    .dataframe thead th {\n",
       "        text-align: right;\n",
       "    }\n",
       "</style>\n",
       "<table border=\"1\" class=\"dataframe\">\n",
       "  <thead>\n",
       "    <tr style=\"text-align: right;\">\n",
       "      <th></th>\n",
       "      <th>00</th>\n",
       "      <th>000</th>\n",
       "      <th>01</th>\n",
       "      <th>10</th>\n",
       "      <th>100</th>\n",
       "      <th>1000s</th>\n",
       "      <th>100k</th>\n",
       "      <th>100th</th>\n",
       "      <th>102</th>\n",
       "      <th>10k</th>\n",
       "      <th>...</th>\n",
       "      <th>youth</th>\n",
       "      <th>youtube</th>\n",
       "      <th>ytp</th>\n",
       "      <th>zdjecia</th>\n",
       "      <th>zelensky</th>\n",
       "      <th>zelenskyy</th>\n",
       "      <th>zero</th>\n",
       "      <th>zone</th>\n",
       "      <th>zones</th>\n",
       "      <th>zoning</th>\n",
       "    </tr>\n",
       "  </thead>\n",
       "  <tbody>\n",
       "    <tr>\n",
       "      <th>0</th>\n",
       "      <td>0</td>\n",
       "      <td>0</td>\n",
       "      <td>0</td>\n",
       "      <td>0</td>\n",
       "      <td>0</td>\n",
       "      <td>0</td>\n",
       "      <td>0</td>\n",
       "      <td>0</td>\n",
       "      <td>0</td>\n",
       "      <td>0</td>\n",
       "      <td>...</td>\n",
       "      <td>0</td>\n",
       "      <td>0</td>\n",
       "      <td>0</td>\n",
       "      <td>0</td>\n",
       "      <td>0</td>\n",
       "      <td>0</td>\n",
       "      <td>0</td>\n",
       "      <td>0</td>\n",
       "      <td>0</td>\n",
       "      <td>0</td>\n",
       "    </tr>\n",
       "    <tr>\n",
       "      <th>1</th>\n",
       "      <td>0</td>\n",
       "      <td>0</td>\n",
       "      <td>0</td>\n",
       "      <td>0</td>\n",
       "      <td>0</td>\n",
       "      <td>0</td>\n",
       "      <td>0</td>\n",
       "      <td>0</td>\n",
       "      <td>0</td>\n",
       "      <td>0</td>\n",
       "      <td>...</td>\n",
       "      <td>0</td>\n",
       "      <td>0</td>\n",
       "      <td>0</td>\n",
       "      <td>0</td>\n",
       "      <td>0</td>\n",
       "      <td>0</td>\n",
       "      <td>0</td>\n",
       "      <td>0</td>\n",
       "      <td>0</td>\n",
       "      <td>0</td>\n",
       "    </tr>\n",
       "    <tr>\n",
       "      <th>2</th>\n",
       "      <td>0</td>\n",
       "      <td>0</td>\n",
       "      <td>0</td>\n",
       "      <td>0</td>\n",
       "      <td>0</td>\n",
       "      <td>0</td>\n",
       "      <td>0</td>\n",
       "      <td>0</td>\n",
       "      <td>0</td>\n",
       "      <td>0</td>\n",
       "      <td>...</td>\n",
       "      <td>0</td>\n",
       "      <td>0</td>\n",
       "      <td>0</td>\n",
       "      <td>0</td>\n",
       "      <td>0</td>\n",
       "      <td>0</td>\n",
       "      <td>0</td>\n",
       "      <td>0</td>\n",
       "      <td>0</td>\n",
       "      <td>0</td>\n",
       "    </tr>\n",
       "    <tr>\n",
       "      <th>3</th>\n",
       "      <td>0</td>\n",
       "      <td>0</td>\n",
       "      <td>0</td>\n",
       "      <td>0</td>\n",
       "      <td>0</td>\n",
       "      <td>0</td>\n",
       "      <td>0</td>\n",
       "      <td>0</td>\n",
       "      <td>0</td>\n",
       "      <td>0</td>\n",
       "      <td>...</td>\n",
       "      <td>0</td>\n",
       "      <td>0</td>\n",
       "      <td>0</td>\n",
       "      <td>0</td>\n",
       "      <td>0</td>\n",
       "      <td>0</td>\n",
       "      <td>0</td>\n",
       "      <td>0</td>\n",
       "      <td>0</td>\n",
       "      <td>0</td>\n",
       "    </tr>\n",
       "    <tr>\n",
       "      <th>4</th>\n",
       "      <td>0</td>\n",
       "      <td>0</td>\n",
       "      <td>0</td>\n",
       "      <td>0</td>\n",
       "      <td>0</td>\n",
       "      <td>0</td>\n",
       "      <td>0</td>\n",
       "      <td>0</td>\n",
       "      <td>0</td>\n",
       "      <td>0</td>\n",
       "      <td>...</td>\n",
       "      <td>0</td>\n",
       "      <td>0</td>\n",
       "      <td>0</td>\n",
       "      <td>0</td>\n",
       "      <td>0</td>\n",
       "      <td>0</td>\n",
       "      <td>0</td>\n",
       "      <td>0</td>\n",
       "      <td>0</td>\n",
       "      <td>0</td>\n",
       "    </tr>\n",
       "    <tr>\n",
       "      <th>...</th>\n",
       "      <td>...</td>\n",
       "      <td>...</td>\n",
       "      <td>...</td>\n",
       "      <td>...</td>\n",
       "      <td>...</td>\n",
       "      <td>...</td>\n",
       "      <td>...</td>\n",
       "      <td>...</td>\n",
       "      <td>...</td>\n",
       "      <td>...</td>\n",
       "      <td>...</td>\n",
       "      <td>...</td>\n",
       "      <td>...</td>\n",
       "      <td>...</td>\n",
       "      <td>...</td>\n",
       "      <td>...</td>\n",
       "      <td>...</td>\n",
       "      <td>...</td>\n",
       "      <td>...</td>\n",
       "      <td>...</td>\n",
       "      <td>...</td>\n",
       "    </tr>\n",
       "    <tr>\n",
       "      <th>1983</th>\n",
       "      <td>0</td>\n",
       "      <td>0</td>\n",
       "      <td>0</td>\n",
       "      <td>0</td>\n",
       "      <td>0</td>\n",
       "      <td>0</td>\n",
       "      <td>0</td>\n",
       "      <td>0</td>\n",
       "      <td>0</td>\n",
       "      <td>0</td>\n",
       "      <td>...</td>\n",
       "      <td>0</td>\n",
       "      <td>0</td>\n",
       "      <td>0</td>\n",
       "      <td>0</td>\n",
       "      <td>0</td>\n",
       "      <td>0</td>\n",
       "      <td>0</td>\n",
       "      <td>0</td>\n",
       "      <td>0</td>\n",
       "      <td>0</td>\n",
       "    </tr>\n",
       "    <tr>\n",
       "      <th>1984</th>\n",
       "      <td>0</td>\n",
       "      <td>0</td>\n",
       "      <td>0</td>\n",
       "      <td>0</td>\n",
       "      <td>0</td>\n",
       "      <td>0</td>\n",
       "      <td>0</td>\n",
       "      <td>0</td>\n",
       "      <td>0</td>\n",
       "      <td>0</td>\n",
       "      <td>...</td>\n",
       "      <td>0</td>\n",
       "      <td>0</td>\n",
       "      <td>0</td>\n",
       "      <td>0</td>\n",
       "      <td>0</td>\n",
       "      <td>0</td>\n",
       "      <td>0</td>\n",
       "      <td>0</td>\n",
       "      <td>0</td>\n",
       "      <td>0</td>\n",
       "    </tr>\n",
       "    <tr>\n",
       "      <th>1985</th>\n",
       "      <td>0</td>\n",
       "      <td>0</td>\n",
       "      <td>0</td>\n",
       "      <td>0</td>\n",
       "      <td>0</td>\n",
       "      <td>0</td>\n",
       "      <td>0</td>\n",
       "      <td>0</td>\n",
       "      <td>0</td>\n",
       "      <td>0</td>\n",
       "      <td>...</td>\n",
       "      <td>0</td>\n",
       "      <td>0</td>\n",
       "      <td>0</td>\n",
       "      <td>0</td>\n",
       "      <td>0</td>\n",
       "      <td>0</td>\n",
       "      <td>0</td>\n",
       "      <td>0</td>\n",
       "      <td>0</td>\n",
       "      <td>0</td>\n",
       "    </tr>\n",
       "    <tr>\n",
       "      <th>1986</th>\n",
       "      <td>0</td>\n",
       "      <td>0</td>\n",
       "      <td>0</td>\n",
       "      <td>0</td>\n",
       "      <td>0</td>\n",
       "      <td>0</td>\n",
       "      <td>0</td>\n",
       "      <td>0</td>\n",
       "      <td>0</td>\n",
       "      <td>0</td>\n",
       "      <td>...</td>\n",
       "      <td>0</td>\n",
       "      <td>0</td>\n",
       "      <td>0</td>\n",
       "      <td>0</td>\n",
       "      <td>0</td>\n",
       "      <td>0</td>\n",
       "      <td>0</td>\n",
       "      <td>0</td>\n",
       "      <td>0</td>\n",
       "      <td>0</td>\n",
       "    </tr>\n",
       "    <tr>\n",
       "      <th>1987</th>\n",
       "      <td>0</td>\n",
       "      <td>0</td>\n",
       "      <td>0</td>\n",
       "      <td>0</td>\n",
       "      <td>0</td>\n",
       "      <td>0</td>\n",
       "      <td>0</td>\n",
       "      <td>0</td>\n",
       "      <td>0</td>\n",
       "      <td>0</td>\n",
       "      <td>...</td>\n",
       "      <td>0</td>\n",
       "      <td>0</td>\n",
       "      <td>0</td>\n",
       "      <td>0</td>\n",
       "      <td>0</td>\n",
       "      <td>0</td>\n",
       "      <td>0</td>\n",
       "      <td>0</td>\n",
       "      <td>0</td>\n",
       "      <td>0</td>\n",
       "    </tr>\n",
       "  </tbody>\n",
       "</table>\n",
       "<p>1988 rows × 5177 columns</p>\n",
       "</div>"
      ],
      "text/plain": [
       "      00  000  01  10  100  1000s  100k  100th  102  10k  ...  youth  youtube  \\\n",
       "0      0    0   0   0    0      0     0      0    0    0  ...      0        0   \n",
       "1      0    0   0   0    0      0     0      0    0    0  ...      0        0   \n",
       "2      0    0   0   0    0      0     0      0    0    0  ...      0        0   \n",
       "3      0    0   0   0    0      0     0      0    0    0  ...      0        0   \n",
       "4      0    0   0   0    0      0     0      0    0    0  ...      0        0   \n",
       "...   ..  ...  ..  ..  ...    ...   ...    ...  ...  ...  ...    ...      ...   \n",
       "1983   0    0   0   0    0      0     0      0    0    0  ...      0        0   \n",
       "1984   0    0   0   0    0      0     0      0    0    0  ...      0        0   \n",
       "1985   0    0   0   0    0      0     0      0    0    0  ...      0        0   \n",
       "1986   0    0   0   0    0      0     0      0    0    0  ...      0        0   \n",
       "1987   0    0   0   0    0      0     0      0    0    0  ...      0        0   \n",
       "\n",
       "      ytp  zdjecia  zelensky  zelenskyy  zero  zone  zones  zoning  \n",
       "0       0        0         0          0     0     0      0       0  \n",
       "1       0        0         0          0     0     0      0       0  \n",
       "2       0        0         0          0     0     0      0       0  \n",
       "3       0        0         0          0     0     0      0       0  \n",
       "4       0        0         0          0     0     0      0       0  \n",
       "...   ...      ...       ...        ...   ...   ...    ...     ...  \n",
       "1983    0        0         0          0     0     0      0       0  \n",
       "1984    0        0         0          0     0     0      0       0  \n",
       "1985    0        0         0          0     0     0      0       0  \n",
       "1986    0        0         0          0     0     0      0       0  \n",
       "1987    0        0         0          0     0     0      0       0  \n",
       "\n",
       "[1988 rows x 5177 columns]"
      ]
     },
     "execution_count": 20,
     "metadata": {},
     "output_type": "execute_result"
    }
   ],
   "source": [
    "token_title.drop('subreddit', axis = 1)"
   ]
  },
  {
   "cell_type": "code",
   "execution_count": 21,
   "id": "c9a70225",
   "metadata": {},
   "outputs": [],
   "source": [
    "X = token_title.drop('subreddit', axis = 1)\n",
    "y = token_title['subreddit']\n",
    "\n",
    "X_train, X_test, y_train, y_test = train_test_split(X, y, random_state=42, stratify=y)"
   ]
  },
  {
   "cell_type": "code",
   "execution_count": 22,
   "id": "635a238e",
   "metadata": {},
   "outputs": [
    {
     "data": {
      "text/plain": [
       "0.6237424547283702"
      ]
     },
     "execution_count": 22,
     "metadata": {},
     "output_type": "execute_result"
    }
   ],
   "source": [
    "dt = DecisionTreeClassifier(random_state=42)\n",
    "dt.fit(X_train,y_train)\n",
    "dt.score(X_test, y_test)"
   ]
  },
  {
   "cell_type": "code",
   "execution_count": 23,
   "id": "4c484c4f",
   "metadata": {},
   "outputs": [
    {
     "data": {
      "text/plain": [
       "0.9906103286384976"
      ]
     },
     "execution_count": 23,
     "metadata": {},
     "output_type": "execute_result"
    }
   ],
   "source": [
    "dt.score(X_train, y_train)"
   ]
  },
  {
   "cell_type": "code",
   "execution_count": 24,
   "id": "b108c346",
   "metadata": {},
   "outputs": [
    {
     "name": "stdout",
     "output_type": "stream",
     "text": [
      "0.5372180197975354\n"
     ]
    }
   ],
   "source": [
    "params = {\n",
    "    'max_depth': [5],\n",
    "    'min_samples_split': [5, 10, 15, 20],\n",
    "    'min_samples_leaf': [2, 3, 4, 5, 6],\n",
    "    'ccp_alpha': [0, 0.001, 0.01, 0.1, 1, 10]\n",
    "}\n",
    "gs = GridSearchCV(DecisionTreeClassifier(random_state=42), param_grid=params)\n",
    "gs.fit(X_train, y_train)\n",
    "print(gs.best_score_)"
   ]
  },
  {
   "cell_type": "code",
   "execution_count": 25,
   "id": "56c121a4",
   "metadata": {},
   "outputs": [
    {
     "data": {
      "text/plain": [
       "{'ccp_alpha': 0, 'max_depth': 5, 'min_samples_leaf': 2, 'min_samples_split': 5}"
      ]
     },
     "execution_count": 25,
     "metadata": {},
     "output_type": "execute_result"
    }
   ],
   "source": [
    "gs.best_params_"
   ]
  },
  {
   "cell_type": "code",
   "execution_count": 26,
   "id": "a9becd65",
   "metadata": {},
   "outputs": [
    {
     "name": "stdout",
     "output_type": "stream",
     "text": [
      "0.6016206145765526\n"
     ]
    }
   ],
   "source": [
    "params = {\n",
    "    'max_depth': [None],\n",
    "    'min_samples_split': [5,10],\n",
    "    'min_samples_leaf': [2,5],\n",
    "    'ccp_alpha': [0,.001,.01,1]\n",
    "}\n",
    "gs = GridSearchCV(DecisionTreeClassifier(random_state=42), param_grid=params)\n",
    "gs.fit(X_train, y_train)\n",
    "print(gs.best_score_)"
   ]
  },
  {
   "cell_type": "code",
   "execution_count": 27,
   "id": "8b9a26bb",
   "metadata": {},
   "outputs": [
    {
     "data": {
      "text/plain": [
       "{'ccp_alpha': 0,\n",
       " 'max_depth': None,\n",
       " 'min_samples_leaf': 2,\n",
       " 'min_samples_split': 5}"
      ]
     },
     "execution_count": 27,
     "metadata": {},
     "output_type": "execute_result"
    }
   ],
   "source": [
    "gs.best_params_"
   ]
  },
  {
   "cell_type": "markdown",
   "id": "7e834626",
   "metadata": {},
   "source": [
    "### IMPORTING VECTORIZED DATASETS WITH SENTIMENT SCORES"
   ]
  },
  {
   "cell_type": "code",
   "execution_count": 28,
   "id": "4a87a8a0",
   "metadata": {},
   "outputs": [],
   "source": [
    "token_self = pd.read_csv('../data/tokenself.csv')\n",
    "token_title = pd.read_csv('../data/tokentitle.csv')\n",
    "token_total = pd.read_csv('../data/tokentotal.csv')\n",
    "\n",
    "token_title.drop('Unnamed: 0', axis = 1, inplace= True)\n",
    "token_self.drop('Unnamed: 0', axis = 1, inplace = True)\n",
    "token_total.drop('Unnamed: 0', axis = 1, inplace = True)"
   ]
  },
  {
   "cell_type": "code",
   "execution_count": 29,
   "id": "2a483b14",
   "metadata": {},
   "outputs": [
    {
     "data": {
      "text/plain": [
       "0.5969181387623175"
      ]
     },
     "execution_count": 29,
     "metadata": {},
     "output_type": "execute_result"
    }
   ],
   "source": [
    "X = token_title.drop('lib_or_neolib', axis = 1)\n",
    "y = token_title['lib_or_neolib']\n",
    "X_train, X_test, y_train, y_test = train_test_split(X, y, random_state = 42, stratify=y)\n",
    "params = {\n",
    "    'max_depth': [None],\n",
    "    'min_samples_split': [5],\n",
    "    'min_samples_leaf': [2],\n",
    "    'ccp_alpha': [0]\n",
    "}\n",
    "gs = GridSearchCV(DecisionTreeClassifier(random_state=42), param_grid=params)\n",
    "gs.fit(X_train, y_train)\n",
    "gs.best_score_"
   ]
  },
  {
   "cell_type": "code",
   "execution_count": 30,
   "id": "8c1a7a48",
   "metadata": {},
   "outputs": [
    {
     "data": {
      "text/plain": [
       "(0.5533535353535354, 0.5674141414141414)"
      ]
     },
     "execution_count": 30,
     "metadata": {},
     "output_type": "execute_result"
    }
   ],
   "source": [
    "cross_val_score(gs, X_test, y_test).mean(), cross_val_score(dt, X_test, y_test).mean()"
   ]
  },
  {
   "cell_type": "code",
   "execution_count": 31,
   "id": "8aa30411",
   "metadata": {},
   "outputs": [
    {
     "data": {
      "text/plain": [
       "0.5848308679939844"
      ]
     },
     "execution_count": 31,
     "metadata": {},
     "output_type": "execute_result"
    }
   ],
   "source": [
    "X = token_total.drop('lib_or_neolib', axis = 1)\n",
    "y = token_total['lib_or_neolib']\n",
    "X_train, X_test, y_train, y_test = train_test_split(X, y, random_state = 42, stratify=y)\n",
    "gs = GridSearchCV(DecisionTreeClassifier(random_state=42), param_grid=params)\n",
    "gs.fit(X_train, y_train)\n",
    "gs.best_score_"
   ]
  },
  {
   "cell_type": "code",
   "execution_count": 32,
   "id": "1d642511",
   "metadata": {},
   "outputs": [
    {
     "data": {
      "text/plain": [
       "(0.5797777777777777, 0.5756161616161617)"
      ]
     },
     "execution_count": 32,
     "metadata": {},
     "output_type": "execute_result"
    }
   ],
   "source": [
    "cross_val_score(gs, X_test, y_test).mean(), cross_val_score(dt, X_test, y_test).mean()"
   ]
  },
  {
   "cell_type": "code",
   "execution_count": 33,
   "id": "faad3f32",
   "metadata": {},
   "outputs": [
    {
     "data": {
      "text/plain": [
       "0.6589514066496163"
      ]
     },
     "execution_count": 33,
     "metadata": {},
     "output_type": "execute_result"
    }
   ],
   "source": [
    "X = token_self.drop('lib_or_neolib', axis = 1)\n",
    "y = token_self['lib_or_neolib']\n",
    "X_train, X_test, y_train, y_test = train_test_split(X, y, random_state = 42, stratify=y)\n",
    "gs = GridSearchCV(DecisionTreeClassifier(random_state=42), param_grid=params)\n",
    "gs.fit(X_train, y_train)\n",
    "gs.best_score_"
   ]
  },
  {
   "cell_type": "code",
   "execution_count": 34,
   "id": "f95d4fa8",
   "metadata": {},
   "outputs": [
    {
     "data": {
      "text/plain": [
       "(0.5913043478260869, 0.5913043478260869)"
      ]
     },
     "execution_count": 34,
     "metadata": {},
     "output_type": "execute_result"
    }
   ],
   "source": [
    "cross_val_score(gs, X_test, y_test).mean(), cross_val_score(dt, X_test, y_test).mean()"
   ]
  },
  {
   "cell_type": "code",
   "execution_count": null,
   "id": "e7bf717f",
   "metadata": {},
   "outputs": [],
   "source": []
  },
  {
   "cell_type": "markdown",
   "id": "3b8c8137",
   "metadata": {},
   "source": [
    "### DECISION TREE BAGGING CLASSIFIER USING BEST PARAMS"
   ]
  },
  {
   "cell_type": "code",
   "execution_count": 35,
   "id": "ee18ab8c",
   "metadata": {},
   "outputs": [],
   "source": [
    "from sklearn.ensemble import BaggingClassifier"
   ]
  },
  {
   "cell_type": "code",
   "execution_count": 36,
   "id": "61857f09",
   "metadata": {},
   "outputs": [
    {
     "data": {
      "text/plain": [
       "(0.9183673469387755, 0.7043478260869566)"
      ]
     },
     "execution_count": 36,
     "metadata": {},
     "output_type": "execute_result"
    }
   ],
   "source": [
    "bag = BaggingClassifier(random_state=42,base_estimator=DecisionTreeClassifier(max_depth = None, ccp_alpha = 0, min_samples_leaf = 2, min_samples_split = 5))\n",
    "# Fit BaggingClassifier.\n",
    "bag.fit(X_train, y_train)\n",
    "# Score BaggingClassifier.\n",
    "bag.score(X_train, y_train), bag.score(X_test, y_test)"
   ]
  },
  {
   "cell_type": "code",
   "execution_count": 37,
   "id": "1ab402bc",
   "metadata": {},
   "outputs": [
    {
     "data": {
      "text/plain": [
       "(0.8933601609657947, 0.6378269617706237)"
      ]
     },
     "execution_count": 37,
     "metadata": {},
     "output_type": "execute_result"
    }
   ],
   "source": [
    "X = token_title.drop('lib_or_neolib', axis = 1)\n",
    "y = token_title['lib_or_neolib']\n",
    "X_train, X_test, y_train, y_test = train_test_split(X, y, random_state = 42, stratify=y)\n",
    "bag.fit(X_train, y_train)\n",
    "# Score BaggingClassifier.\n",
    "bag.score(X_train, y_train), bag.score(X_test, y_test)"
   ]
  },
  {
   "cell_type": "code",
   "execution_count": 38,
   "id": "b9164ebd",
   "metadata": {},
   "outputs": [
    {
     "data": {
      "text/plain": [
       "0.5774343434343434"
      ]
     },
     "execution_count": 38,
     "metadata": {},
     "output_type": "execute_result"
    }
   ],
   "source": [
    "cross_val_score(bag, X_test, y_test).mean()"
   ]
  },
  {
   "cell_type": "code",
   "execution_count": 39,
   "id": "b11c6972",
   "metadata": {},
   "outputs": [
    {
     "data": {
      "text/plain": [
       "(0.914822266934943, 0.6539235412474849)"
      ]
     },
     "execution_count": 39,
     "metadata": {},
     "output_type": "execute_result"
    }
   ],
   "source": [
    "X = token_total.drop('lib_or_neolib', axis = 1)\n",
    "y = token_total['lib_or_neolib']\n",
    "X_train, X_test, y_train, y_test = train_test_split(X, y, random_state = 42, stratify=y)\n",
    "bag.fit(X_train, y_train)\n",
    "# Score BaggingClassifier.\n",
    "bag.score(X_train, y_train), bag.score(X_test, y_test)"
   ]
  },
  {
   "cell_type": "code",
   "execution_count": 40,
   "id": "24920eed",
   "metadata": {},
   "outputs": [
    {
     "data": {
      "text/plain": [
       "0.5874949494949495"
      ]
     },
     "execution_count": 40,
     "metadata": {},
     "output_type": "execute_result"
    }
   ],
   "source": [
    "cross_val_score(bag, X_test, y_test).mean()"
   ]
  },
  {
   "cell_type": "code",
   "execution_count": 41,
   "id": "09417e99",
   "metadata": {},
   "outputs": [
    {
     "data": {
      "text/plain": [
       "(0.9183673469387755, 0.7043478260869566)"
      ]
     },
     "execution_count": 41,
     "metadata": {},
     "output_type": "execute_result"
    }
   ],
   "source": [
    "X = token_self.drop('lib_or_neolib', axis = 1)\n",
    "y = token_self['lib_or_neolib']\n",
    "X_train, X_test, y_train, y_test = train_test_split(X, y, random_state = 42, stratify=y)\n",
    "bag.fit(X_train, y_train)\n",
    "# Score BaggingClassifier.\n",
    "bag.score(X_train, y_train), bag.score(X_test, y_test)"
   ]
  },
  {
   "cell_type": "code",
   "execution_count": 42,
   "id": "de3addfe",
   "metadata": {},
   "outputs": [
    {
     "data": {
      "text/plain": [
       "0.6347826086956522"
      ]
     },
     "execution_count": 42,
     "metadata": {},
     "output_type": "execute_result"
    }
   ],
   "source": [
    "cross_val_score(bag, X_test, y_test).mean()"
   ]
  },
  {
   "cell_type": "code",
   "execution_count": 43,
   "id": "7f934187",
   "metadata": {},
   "outputs": [
    {
     "data": {
      "text/plain": [
       "(0.9504373177842566, 0.7043478260869566)"
      ]
     },
     "execution_count": 43,
     "metadata": {},
     "output_type": "execute_result"
    }
   ],
   "source": [
    "bag = BaggingClassifier(random_state=42)\n",
    "X = token_self.drop('lib_or_neolib', axis = 1)\n",
    "y = token_self['lib_or_neolib']\n",
    "X_train, X_test, y_train, y_test = train_test_split(X, y, random_state = 42, stratify=y)\n",
    "bag.fit(X_train, y_train)\n",
    "# Score BaggingClassifier.\n",
    "bag.score(X_train, y_train), bag.score(X_test, y_test)"
   ]
  },
  {
   "cell_type": "code",
   "execution_count": 44,
   "id": "d922abf0",
   "metadata": {},
   "outputs": [
    {
     "data": {
      "text/plain": [
       "0.6608695652173913"
      ]
     },
     "execution_count": 44,
     "metadata": {},
     "output_type": "execute_result"
    }
   ],
   "source": [
    "cross_val_score(bag,X_test,y_test).mean()"
   ]
  },
  {
   "cell_type": "code",
   "execution_count": 45,
   "id": "b49d43ff",
   "metadata": {},
   "outputs": [
    {
     "data": {
      "text/plain": [
       "(0.9644533869885983, 0.6277665995975855)"
      ]
     },
     "execution_count": 45,
     "metadata": {},
     "output_type": "execute_result"
    }
   ],
   "source": [
    "X = token_total.drop('lib_or_neolib', axis = 1)\n",
    "y = token_total['lib_or_neolib']\n",
    "X_train, X_test, y_train, y_test = train_test_split(X, y, random_state = 42, stratify=y)\n",
    "bag.fit(X_train, y_train)\n",
    "# Score BaggingClassifier.\n",
    "bag.score(X_train, y_train), bag.score(X_test, y_test)"
   ]
  },
  {
   "cell_type": "code",
   "execution_count": 46,
   "id": "72982235",
   "metadata": {},
   "outputs": [
    {
     "data": {
      "text/plain": [
       "0.6076767676767677"
      ]
     },
     "execution_count": 46,
     "metadata": {},
     "output_type": "execute_result"
    }
   ],
   "source": [
    "cross_val_score(bag,X_test,y_test).mean()"
   ]
  },
  {
   "cell_type": "code",
   "execution_count": 47,
   "id": "ad2cc860",
   "metadata": {},
   "outputs": [
    {
     "data": {
      "text/plain": [
       "(0.9704896042924211, 0.6498993963782697)"
      ]
     },
     "execution_count": 47,
     "metadata": {},
     "output_type": "execute_result"
    }
   ],
   "source": [
    "X = token_title.drop('lib_or_neolib', axis = 1)\n",
    "y = token_title['lib_or_neolib']\n",
    "X_train, X_test, y_train, y_test = train_test_split(X, y, random_state = 42, stratify=y)\n",
    "bag.fit(X_train, y_train)\n",
    "# Score BaggingClassifier.\n",
    "bag.score(X_train, y_train), bag.score(X_test, y_test)"
   ]
  },
  {
   "cell_type": "code",
   "execution_count": 48,
   "id": "66a41e7b",
   "metadata": {},
   "outputs": [
    {
     "data": {
      "text/plain": [
       "0.5774343434343434"
      ]
     },
     "execution_count": 48,
     "metadata": {},
     "output_type": "execute_result"
    }
   ],
   "source": [
    "cross_val_score(bag,X_test,y_test).mean()"
   ]
  },
  {
   "cell_type": "markdown",
   "id": "17ad329c",
   "metadata": {},
   "source": [
    "### LOGISTIC REGRESSION BAGGING CLASSIFIER"
   ]
  },
  {
   "cell_type": "code",
   "execution_count": 49,
   "id": "e0416bbb",
   "metadata": {},
   "outputs": [],
   "source": [
    "bag = BaggingClassifier(random_state=42,base_estimator=LogisticRegression())"
   ]
  },
  {
   "cell_type": "code",
   "execution_count": 50,
   "id": "aa53fe8e",
   "metadata": {},
   "outputs": [
    {
     "data": {
      "text/plain": [
       "(0.9356136820925554, 0.6498993963782697)"
      ]
     },
     "execution_count": 50,
     "metadata": {},
     "output_type": "execute_result"
    }
   ],
   "source": [
    "X = token_title.drop('lib_or_neolib', axis = 1)\n",
    "y = token_title['lib_or_neolib']\n",
    "X_train, X_test, y_train, y_test = train_test_split(X, y, random_state = 42, stratify=y)\n",
    "bag.fit(X_train, y_train)\n",
    "# Score BaggingClassifier.\n",
    "bag.score(X_train, y_train), bag.score(X_test, y_test)"
   ]
  },
  {
   "cell_type": "code",
   "execution_count": 51,
   "id": "ae9a1049",
   "metadata": {},
   "outputs": [
    {
     "data": {
      "text/plain": [
       "0.6478787878787878"
      ]
     },
     "execution_count": 51,
     "metadata": {},
     "output_type": "execute_result"
    }
   ],
   "source": [
    "cross_val_score(bag, X_test, y_test).mean()"
   ]
  },
  {
   "cell_type": "code",
   "execution_count": 52,
   "id": "10db186c",
   "metadata": {},
   "outputs": [
    {
     "data": {
      "text/plain": [
       "(0.9429912810194501, 0.682092555331992)"
      ]
     },
     "execution_count": 52,
     "metadata": {},
     "output_type": "execute_result"
    }
   ],
   "source": [
    "X = token_total.drop('lib_or_neolib', axis = 1)\n",
    "y = token_total['lib_or_neolib']\n",
    "X_train, X_test, y_train, y_test = train_test_split(X, y, random_state = 42, stratify=y)\n",
    "bag.fit(X_train, y_train)\n",
    "# Score BaggingClassifier.\n",
    "bag.score(X_train, y_train), bag.score(X_test, y_test)"
   ]
  },
  {
   "cell_type": "code",
   "execution_count": 53,
   "id": "4d527d45",
   "metadata": {},
   "outputs": [
    {
     "data": {
      "text/plain": [
       "0.6197777777777778"
      ]
     },
     "execution_count": 53,
     "metadata": {},
     "output_type": "execute_result"
    }
   ],
   "source": [
    "cross_val_score(bag, X_test, y_test).mean()"
   ]
  },
  {
   "cell_type": "code",
   "execution_count": 54,
   "id": "6b35daf5",
   "metadata": {},
   "outputs": [
    {
     "data": {
      "text/plain": [
       "(0.967930029154519, 0.8)"
      ]
     },
     "execution_count": 54,
     "metadata": {},
     "output_type": "execute_result"
    }
   ],
   "source": [
    "X = token_self.drop('lib_or_neolib', axis = 1)\n",
    "y = token_self['lib_or_neolib']\n",
    "X_train, X_test, y_train, y_test = train_test_split(X, y, random_state = 42, stratify=y)\n",
    "bag.fit(X_train, y_train)\n",
    "# Score BaggingClassifier.\n",
    "bag.score(X_train, y_train), bag.score(X_test, y_test)"
   ]
  },
  {
   "cell_type": "code",
   "execution_count": 55,
   "id": "55f0f3bf",
   "metadata": {},
   "outputs": [
    {
     "data": {
      "text/plain": [
       "0.7217391304347825"
      ]
     },
     "execution_count": 55,
     "metadata": {},
     "output_type": "execute_result"
    }
   ],
   "source": [
    "cross_val_score(bag, X_test, y_test).mean()"
   ]
  },
  {
   "cell_type": "markdown",
   "id": "b6c735aa",
   "metadata": {},
   "source": [
    "### USING RANDOM FOREST AND GETTING THE BEST PARAMS"
   ]
  },
  {
   "cell_type": "code",
   "execution_count": 56,
   "id": "886e58da",
   "metadata": {},
   "outputs": [],
   "source": [
    "from sklearn.ensemble import RandomForestClassifier, ExtraTreesClassifier"
   ]
  },
  {
   "cell_type": "code",
   "execution_count": 57,
   "id": "b2701819",
   "metadata": {},
   "outputs": [],
   "source": [
    "params = {\n",
    "    'n_estimators': [100],\n",
    "    'max_depth': [None, 5],\n",
    "    'min_samples_split': [2],\n",
    "    'min_samples_leaf': [2],\n",
    "    'max_features': [None, 'log2', 'auto']\n",
    "    \n",
    "}\n",
    "gs = GridSearchCV(RandomForestClassifier(random_state=42), param_grid=params)"
   ]
  },
  {
   "cell_type": "code",
   "execution_count": 58,
   "id": "838091d8",
   "metadata": {},
   "outputs": [
    {
     "data": {
      "text/plain": [
       "0.8021462105969148"
      ]
     },
     "execution_count": 58,
     "metadata": {},
     "output_type": "execute_result"
    }
   ],
   "source": [
    "X = token_title.drop('lib_or_neolib', axis = 1)\n",
    "y = token_title['lib_or_neolib']\n",
    "X_train, X_test, y_train, y_test = train_test_split(X, y, random_state = 42, stratify=y)\n",
    "gs.fit(X_train, y_train)\n",
    "# Score BaggingClassifier.\n",
    "gs.score(X_train, y_train)"
   ]
  },
  {
   "cell_type": "code",
   "execution_count": 59,
   "id": "d6ca8da9",
   "metadata": {},
   "outputs": [
    {
     "data": {
      "text/plain": [
       "0.6639839034205232"
      ]
     },
     "execution_count": 59,
     "metadata": {},
     "output_type": "execute_result"
    }
   ],
   "source": [
    "gs.score(X_test, y_test)"
   ]
  },
  {
   "cell_type": "code",
   "execution_count": 60,
   "id": "472c4718",
   "metadata": {},
   "outputs": [
    {
     "data": {
      "text/plain": [
       "{'max_depth': None,\n",
       " 'max_features': 'log2',\n",
       " 'min_samples_leaf': 2,\n",
       " 'min_samples_split': 2,\n",
       " 'n_estimators': 100}"
      ]
     },
     "execution_count": 60,
     "metadata": {},
     "output_type": "execute_result"
    }
   ],
   "source": [
    "gs.best_params_"
   ]
  },
  {
   "cell_type": "code",
   "execution_count": 61,
   "id": "7d5d915a",
   "metadata": {},
   "outputs": [],
   "source": [
    "params = {\n",
    "    'n_estimators': [100],\n",
    "    'max_depth': [None],\n",
    "    'min_samples_split': [2,5],\n",
    "    'min_samples_leaf': [2],\n",
    "    'max_features': ['log2']\n",
    "    \n",
    "}\n",
    "gs = GridSearchCV(RandomForestClassifier(random_state=42), param_grid=params)"
   ]
  },
  {
   "cell_type": "code",
   "execution_count": 62,
   "id": "50efef70",
   "metadata": {},
   "outputs": [
    {
     "data": {
      "text/plain": [
       "0.7994634473507712"
      ]
     },
     "execution_count": 62,
     "metadata": {},
     "output_type": "execute_result"
    }
   ],
   "source": [
    "X = token_title.drop('lib_or_neolib', axis = 1)\n",
    "y = token_title['lib_or_neolib']\n",
    "X_train, X_test, y_train, y_test = train_test_split(X, y, random_state = 42, stratify=y)\n",
    "gs.fit(X_train, y_train)\n",
    "# Score BaggingClassifier.\n",
    "gs.score(X_train, y_train)"
   ]
  },
  {
   "cell_type": "code",
   "execution_count": 63,
   "id": "a429eaf6",
   "metadata": {},
   "outputs": [
    {
     "data": {
      "text/plain": [
       "{'max_depth': None,\n",
       " 'max_features': 'log2',\n",
       " 'min_samples_leaf': 2,\n",
       " 'min_samples_split': 5,\n",
       " 'n_estimators': 100}"
      ]
     },
     "execution_count": 63,
     "metadata": {},
     "output_type": "execute_result"
    }
   ],
   "source": [
    "gs.best_params_"
   ]
  },
  {
   "cell_type": "code",
   "execution_count": 64,
   "id": "ffe8c181",
   "metadata": {},
   "outputs": [],
   "source": [
    "params = {\n",
    "    'n_estimators': [100],\n",
    "    'max_depth': [None],\n",
    "    'min_samples_split': [5],\n",
    "    'min_samples_leaf': [2],\n",
    "    'max_features': ['log2']\n",
    "    \n",
    "}\n",
    "gs = GridSearchCV(RandomForestClassifier(random_state=42), param_grid=params)\n"
   ]
  },
  {
   "cell_type": "code",
   "execution_count": 65,
   "id": "e2b680a1",
   "metadata": {},
   "outputs": [
    {
     "data": {
      "text/plain": [
       "0.7994634473507712"
      ]
     },
     "execution_count": 65,
     "metadata": {},
     "output_type": "execute_result"
    }
   ],
   "source": [
    "X = token_title.drop('lib_or_neolib', axis = 1)\n",
    "y = token_title['lib_or_neolib']\n",
    "X_train, X_test, y_train, y_test = train_test_split(X, y, random_state = 42, stratify=y)\n",
    "gs.fit(X_train, y_train)\n",
    "# Score BaggingClassifier.\n",
    "gs.score(X_train, y_train)"
   ]
  },
  {
   "cell_type": "code",
   "execution_count": 66,
   "id": "9642dbc6",
   "metadata": {},
   "outputs": [
    {
     "data": {
      "text/plain": [
       "(0.6304302933716415, 0.5150303030303031)"
      ]
     },
     "execution_count": 66,
     "metadata": {},
     "output_type": "execute_result"
    }
   ],
   "source": [
    "cross_val_score(gs, X_train, y_train).mean(), cross_val_score(gs, X_test, y_test).mean()"
   ]
  },
  {
   "cell_type": "code",
   "execution_count": 67,
   "id": "f5ff47df",
   "metadata": {},
   "outputs": [
    {
     "data": {
      "text/plain": [
       "0.7565392354124748"
      ]
     },
     "execution_count": 67,
     "metadata": {},
     "output_type": "execute_result"
    }
   ],
   "source": [
    "X = token_total.drop('lib_or_neolib', axis = 1)\n",
    "y = token_total['lib_or_neolib']\n",
    "X_train, X_test, y_train, y_test = train_test_split(X, y, random_state = 42, stratify=y)\n",
    "gs.fit(X_train, y_train)\n",
    "# Score BaggingClassifier.\n",
    "gs.score(X_train, y_train)"
   ]
  },
  {
   "cell_type": "code",
   "execution_count": 68,
   "id": "7a2ab888",
   "metadata": {},
   "outputs": [
    {
     "data": {
      "text/plain": [
       "0.607645875251509"
      ]
     },
     "execution_count": 68,
     "metadata": {},
     "output_type": "execute_result"
    }
   ],
   "source": [
    "gs.score(X_test,y_test)"
   ]
  },
  {
   "cell_type": "code",
   "execution_count": 69,
   "id": "cf3d4b9e",
   "metadata": {},
   "outputs": [
    {
     "data": {
      "text/plain": [
       "(0.5909003164912123, 0.5331313131313131)"
      ]
     },
     "execution_count": 69,
     "metadata": {},
     "output_type": "execute_result"
    }
   ],
   "source": [
    "cross_val_score(gs, X_train, y_train).mean(), cross_val_score(gs, X_test, y_test).mean()"
   ]
  },
  {
   "cell_type": "code",
   "execution_count": 70,
   "id": "c82d301b",
   "metadata": {},
   "outputs": [
    {
     "data": {
      "text/plain": [
       "0.6822157434402333"
      ]
     },
     "execution_count": 70,
     "metadata": {},
     "output_type": "execute_result"
    }
   ],
   "source": [
    "X = token_self.drop('lib_or_neolib', axis = 1)\n",
    "y = token_self['lib_or_neolib']\n",
    "X_train, X_test, y_train, y_test = train_test_split(X, y, random_state = 42, stratify=y)\n",
    "gs.fit(X_train, y_train)\n",
    "# Score BaggingClassifier.\n",
    "gs.score(X_train, y_train)"
   ]
  },
  {
   "cell_type": "code",
   "execution_count": 71,
   "id": "5b72e90e",
   "metadata": {},
   "outputs": [
    {
     "data": {
      "text/plain": [
       "0.6521739130434783"
      ]
     },
     "execution_count": 71,
     "metadata": {},
     "output_type": "execute_result"
    }
   ],
   "source": [
    "gs.score(X_test, y_test)"
   ]
  },
  {
   "cell_type": "code",
   "execution_count": 72,
   "id": "8b2c8fa1",
   "metadata": {},
   "outputs": [
    {
     "data": {
      "text/plain": [
       "(0.6121909633418585, 0.5652173913043478)"
      ]
     },
     "execution_count": 72,
     "metadata": {},
     "output_type": "execute_result"
    }
   ],
   "source": [
    "cross_val_score(gs, X_train, y_train).mean(), cross_val_score(gs, X_test, y_test).mean()"
   ]
  },
  {
   "cell_type": "markdown",
   "id": "361c77e0",
   "metadata": {},
   "source": [
    "### TRYING WITH IDEAL CVEC PARAMS"
   ]
  },
  {
   "cell_type": "code",
   "execution_count": 75,
   "id": "9a112a95",
   "metadata": {},
   "outputs": [],
   "source": [
    "token_total = pd.read_csv('../data/tokentotalideal.csv')\n",
    "token_title = pd.read_csv('../data/tokentitleideal.csv')\n",
    "token_self = pd.read_csv('../data/tokenselfideal.csv')\n",
    "\n",
    "token_title.drop('Unnamed: 0', axis = 1, inplace= True)\n",
    "token_self.drop('Unnamed: 0', axis = 1, inplace = True)\n",
    "token_total.drop('Unnamed: 0', axis = 1, inplace = True)"
   ]
  },
  {
   "cell_type": "code",
   "execution_count": 76,
   "id": "10edd6a3",
   "metadata": {},
   "outputs": [],
   "source": [
    "bag = BaggingClassifier(random_state=42,base_estimator=DecisionTreeClassifier(max_depth = None, ccp_alpha = 0, min_samples_leaf = 2, min_samples_split = 5))"
   ]
  },
  {
   "cell_type": "code",
   "execution_count": 77,
   "id": "60ce18c0",
   "metadata": {},
   "outputs": [
    {
     "data": {
      "text/plain": [
       "(0.8987256874580818, 0.6458752515090543)"
      ]
     },
     "execution_count": 77,
     "metadata": {},
     "output_type": "execute_result"
    }
   ],
   "source": [
    "X = token_title.drop('lib_or_neolib', axis = 1)\n",
    "y = token_title['lib_or_neolib']\n",
    "X_train, X_test, y_train, y_test = train_test_split(X, y, random_state = 42, stratify=y)\n",
    "bag.fit(X_train, y_train)\n",
    "# Score BaggingClassifier.\n",
    "bag.score(X_train, y_train), bag.score(X_test, y_test)"
   ]
  },
  {
   "cell_type": "code",
   "execution_count": 78,
   "id": "a6c05338",
   "metadata": {},
   "outputs": [
    {
     "data": {
      "text/plain": [
       "0.5994545454545455"
      ]
     },
     "execution_count": 78,
     "metadata": {},
     "output_type": "execute_result"
    }
   ],
   "source": [
    "cross_val_score(bag, X_test, y_test).mean()"
   ]
  },
  {
   "cell_type": "code",
   "execution_count": 79,
   "id": "ef527f63",
   "metadata": {},
   "outputs": [
    {
     "data": {
      "text/plain": [
       "(0.8772635814889336, 0.6720321931589537)"
      ]
     },
     "execution_count": 79,
     "metadata": {},
     "output_type": "execute_result"
    }
   ],
   "source": [
    "X = token_total.drop('lib_or_neolib', axis = 1)\n",
    "y = token_total['lib_or_neolib']\n",
    "X_train, X_test, y_train, y_test = train_test_split(X, y, random_state = 42, stratify=y)\n",
    "bag.fit(X_train, y_train)\n",
    "# Score BaggingClassifier.\n",
    "bag.score(X_train, y_train), bag.score(X_test, y_test)"
   ]
  },
  {
   "cell_type": "code",
   "execution_count": 80,
   "id": "af6a21ea",
   "metadata": {},
   "outputs": [
    {
     "data": {
      "text/plain": [
       "0.6196969696969697"
      ]
     },
     "execution_count": 80,
     "metadata": {},
     "output_type": "execute_result"
    }
   ],
   "source": [
    "cross_val_score(bag, X_test, y_test).mean()"
   ]
  },
  {
   "cell_type": "code",
   "execution_count": 81,
   "id": "b40d25c9",
   "metadata": {},
   "outputs": [
    {
     "data": {
      "text/plain": [
       "(0.9008746355685131, 0.6782608695652174)"
      ]
     },
     "execution_count": 81,
     "metadata": {},
     "output_type": "execute_result"
    }
   ],
   "source": [
    "X = token_self.drop('lib_or_neolib', axis = 1)\n",
    "y = token_self['lib_or_neolib']\n",
    "X_train, X_test, y_train, y_test = train_test_split(X, y, random_state = 42, stratify=y)\n",
    "bag.fit(X_train, y_train)\n",
    "# Score BaggingClassifier.\n",
    "bag.score(X_train, y_train), bag.score(X_test, y_test)"
   ]
  },
  {
   "cell_type": "code",
   "execution_count": 82,
   "id": "f593fbe0",
   "metadata": {},
   "outputs": [
    {
     "data": {
      "text/plain": [
       "0.6347826086956522"
      ]
     },
     "execution_count": 82,
     "metadata": {},
     "output_type": "execute_result"
    }
   ],
   "source": [
    "cross_val_score(bag, X_test, y_test).mean()"
   ]
  },
  {
   "cell_type": "code",
   "execution_count": 83,
   "id": "d16d624e",
   "metadata": {},
   "outputs": [
    {
     "data": {
      "text/plain": [
       "(0.9212827988338192, 0.6956521739130435)"
      ]
     },
     "execution_count": 83,
     "metadata": {},
     "output_type": "execute_result"
    }
   ],
   "source": [
    "bag = BaggingClassifier(random_state=42)\n",
    "X = token_self.drop('lib_or_neolib', axis = 1)\n",
    "y = token_self['lib_or_neolib']\n",
    "X_train, X_test, y_train, y_test = train_test_split(X, y, random_state = 42, stratify=y)\n",
    "bag.fit(X_train, y_train)\n",
    "# Score BaggingClassifier.\n",
    "bag.score(X_train, y_train), bag.score(X_test, y_test)"
   ]
  },
  {
   "cell_type": "code",
   "execution_count": 84,
   "id": "e8325700",
   "metadata": {},
   "outputs": [
    {
     "data": {
      "text/plain": [
       "0.6521739130434783"
      ]
     },
     "execution_count": 84,
     "metadata": {},
     "output_type": "execute_result"
    }
   ],
   "source": [
    "cross_val_score(bag, X_test, y_test).mean()"
   ]
  },
  {
   "cell_type": "code",
   "execution_count": 85,
   "id": "ae968a12",
   "metadata": {},
   "outputs": [
    {
     "data": {
      "text/plain": [
       "(0.9711602951039571, 0.641851106639839)"
      ]
     },
     "execution_count": 85,
     "metadata": {},
     "output_type": "execute_result"
    }
   ],
   "source": [
    "X = token_total.drop('lib_or_neolib', axis = 1)\n",
    "y = token_total['lib_or_neolib']\n",
    "X_train, X_test, y_train, y_test = train_test_split(X, y, random_state = 42, stratify=y)\n",
    "bag.fit(X_train, y_train)\n",
    "# Score BaggingClassifier.\n",
    "bag.score(X_train, y_train), bag.score(X_test, y_test)"
   ]
  },
  {
   "cell_type": "code",
   "execution_count": 86,
   "id": "fa31f22f",
   "metadata": {},
   "outputs": [
    {
     "data": {
      "text/plain": [
       "0.6137373737373737"
      ]
     },
     "execution_count": 86,
     "metadata": {},
     "output_type": "execute_result"
    }
   ],
   "source": [
    "cross_val_score(bag, X_test, y_test).mean()"
   ]
  },
  {
   "cell_type": "code",
   "execution_count": 87,
   "id": "43d17119",
   "metadata": {},
   "outputs": [
    {
     "data": {
      "text/plain": [
       "(0.9637826961770624, 0.6257545271629779)"
      ]
     },
     "execution_count": 87,
     "metadata": {},
     "output_type": "execute_result"
    }
   ],
   "source": [
    "X = token_title.drop('lib_or_neolib', axis = 1)\n",
    "y = token_title['lib_or_neolib']\n",
    "X_train, X_test, y_train, y_test = train_test_split(X, y, random_state = 42, stratify=y)\n",
    "bag.fit(X_train, y_train)\n",
    "# Score BaggingClassifier.\n",
    "bag.score(X_train, y_train), bag.score(X_test, y_test)"
   ]
  },
  {
   "cell_type": "code",
   "execution_count": 88,
   "id": "b95c509d",
   "metadata": {},
   "outputs": [
    {
     "data": {
      "text/plain": [
       "0.6175353535353535"
      ]
     },
     "execution_count": 88,
     "metadata": {},
     "output_type": "execute_result"
    }
   ],
   "source": [
    "cross_val_score(bag, X_test, y_test).mean()"
   ]
  },
  {
   "cell_type": "markdown",
   "id": "1b8295f3",
   "metadata": {},
   "source": [
    "### LOGREG WITH IDEAL CVEC"
   ]
  },
  {
   "cell_type": "code",
   "execution_count": 89,
   "id": "06b30687",
   "metadata": {},
   "outputs": [
    {
     "data": {
      "text/plain": [
       "(0.971830985915493, 0.6861167002012073)"
      ]
     },
     "execution_count": 89,
     "metadata": {},
     "output_type": "execute_result"
    }
   ],
   "source": [
    "bag = BaggingClassifier(random_state=42,base_estimator=LogisticRegression())\n",
    "\n",
    "X = token_title.drop('lib_or_neolib', axis = 1)\n",
    "y = token_title['lib_or_neolib']\n",
    "X_train, X_test, y_train, y_test = train_test_split(X, y, random_state = 42, stratify=y)\n",
    "bag.fit(X_train, y_train)\n",
    "# Score BaggingClassifier.\n",
    "bag.score(X_train, y_train), bag.score(X_test, y_test)"
   ]
  },
  {
   "cell_type": "code",
   "execution_count": 90,
   "id": "63691b31",
   "metadata": {},
   "outputs": [
    {
     "data": {
      "text/plain": [
       "0.6357373737373737"
      ]
     },
     "execution_count": 90,
     "metadata": {},
     "output_type": "execute_result"
    }
   ],
   "source": [
    "cross_val_score(bag, X_test, y_test).mean()"
   ]
  },
  {
   "cell_type": "code",
   "execution_count": 91,
   "id": "457be803",
   "metadata": {},
   "outputs": [
    {
     "data": {
      "text/plain": [
       "(0.9765258215962441, 0.6720321931589537)"
      ]
     },
     "execution_count": 91,
     "metadata": {},
     "output_type": "execute_result"
    }
   ],
   "source": [
    "X = token_total.drop('lib_or_neolib', axis = 1)\n",
    "y = token_total['lib_or_neolib']\n",
    "X_train, X_test, y_train, y_test = train_test_split(X, y, random_state = 42, stratify=y)\n",
    "bag.fit(X_train, y_train)\n",
    "# Score BaggingClassifier.\n",
    "bag.score(X_train, y_train), bag.score(X_test, y_test)"
   ]
  },
  {
   "cell_type": "code",
   "execution_count": 92,
   "id": "e193475d",
   "metadata": {},
   "outputs": [
    {
     "data": {
      "text/plain": [
       "0.6499191919191919"
      ]
     },
     "execution_count": 92,
     "metadata": {},
     "output_type": "execute_result"
    }
   ],
   "source": [
    "cross_val_score(bag, X_test, y_test).mean()"
   ]
  },
  {
   "cell_type": "code",
   "execution_count": 93,
   "id": "6a8965e5",
   "metadata": {},
   "outputs": [
    {
     "data": {
      "text/plain": [
       "(0.9329446064139941, 0.7217391304347827)"
      ]
     },
     "execution_count": 93,
     "metadata": {},
     "output_type": "execute_result"
    }
   ],
   "source": [
    "X = token_self.drop('lib_or_neolib', axis = 1)\n",
    "y = token_self['lib_or_neolib']\n",
    "X_train, X_test, y_train, y_test = train_test_split(X, y, random_state = 42, stratify=y)\n",
    "bag.fit(X_train, y_train)\n",
    "# Score BaggingClassifier.\n",
    "bag.score(X_train, y_train), bag.score(X_test, y_test)"
   ]
  },
  {
   "cell_type": "code",
   "execution_count": 94,
   "id": "3e176fd4",
   "metadata": {},
   "outputs": [
    {
     "data": {
      "text/plain": [
       "0.6869565217391305"
      ]
     },
     "execution_count": 94,
     "metadata": {},
     "output_type": "execute_result"
    }
   ],
   "source": [
    "cross_val_score(bag, X_test, y_test).mean()"
   ]
  },
  {
   "cell_type": "code",
   "execution_count": null,
   "id": "aff9dba3",
   "metadata": {},
   "outputs": [],
   "source": []
  },
  {
   "cell_type": "code",
   "execution_count": null,
   "id": "de08c054",
   "metadata": {},
   "outputs": [],
   "source": []
  }
 ],
 "metadata": {
  "kernelspec": {
   "display_name": "Python 3",
   "language": "python",
   "name": "python3"
  },
  "language_info": {
   "codemirror_mode": {
    "name": "ipython",
    "version": 3
   },
   "file_extension": ".py",
   "mimetype": "text/x-python",
   "name": "python",
   "nbconvert_exporter": "python",
   "pygments_lexer": "ipython3",
   "version": "3.8.8"
  }
 },
 "nbformat": 4,
 "nbformat_minor": 5
}
